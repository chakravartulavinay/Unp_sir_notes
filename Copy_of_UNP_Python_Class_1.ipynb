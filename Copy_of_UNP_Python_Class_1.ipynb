{
  "cells": [
    {
      "cell_type": "markdown",
      "metadata": {
        "id": "view-in-github",
        "colab_type": "text"
      },
      "source": [
        "<a href=\"https://colab.research.google.com/github/chakravartulavinay/Unp_sir_notes/blob/main/Copy_of_UNP_Python_Class_1.ipynb\" target=\"_parent\"><img src=\"https://colab.research.google.com/assets/colab-badge.svg\" alt=\"Open In Colab\"/></a>"
      ]
    },
    {
      "cell_type": "markdown",
      "metadata": {
        "id": "2pjrGdi-CRCK"
      },
      "source": [
        "# Basic Python Syntax\n",
        "\n",
        "## Introduction to Python Syntax\n",
        "\n",
        "Python is a versatile and readable programming language that emphasizes code readability. Let's start by exploring some basic syntax concepts.\n",
        "\n",
        "```"
      ],
      "id": "2pjrGdi-CRCK"
    },
    {
      "cell_type": "markdown",
      "source": [
        "### Print Statement\n",
        "\n",
        "The `print()` function is used to display output in Python. It allows us to print text and variable values.\n",
        "\n",
        "Example:\n",
        "```python\n",
        "print('Hello, world!')\n",
        "```"
      ],
      "metadata": {
        "id": "V9qdL15ACkbp"
      },
      "id": "V9qdL15ACkbp"
    },
    {
      "cell_type": "code",
      "source": [
        "print('Hello World!')"
      ],
      "metadata": {
        "colab": {
          "base_uri": "https://localhost:8080/"
        },
        "id": "-cM1AKsCig4S",
        "outputId": "01bd3a8e-fe1d-46da-b339-bb876af85c0d"
      },
      "id": "-cM1AKsCig4S",
      "execution_count": null,
      "outputs": [
        {
          "output_type": "stream",
          "name": "stdout",
          "text": [
            "Hello World!\n"
          ]
        }
      ]
    },
    {
      "cell_type": "code",
      "source": [
        "time = 8\n",
        "print(time)"
      ],
      "metadata": {
        "colab": {
          "base_uri": "https://localhost:8080/"
        },
        "id": "6fam6UKhjYd6",
        "outputId": "c56c8007-186b-4a70-c08b-d9bd11ecbc76"
      },
      "id": "6fam6UKhjYd6",
      "execution_count": null,
      "outputs": [
        {
          "output_type": "stream",
          "name": "stdout",
          "text": [
            "8\n"
          ]
        }
      ]
    },
    {
      "cell_type": "code",
      "source": [
        "what_is_the_time = 'what is the time'\n",
        "print(what_is_the_time)"
      ],
      "metadata": {
        "colab": {
          "base_uri": "https://localhost:8080/"
        },
        "id": "2jPQXG5Ijh0M",
        "outputId": "1cd3bb74-bb51-43a8-85e1-7cd228b9814c"
      },
      "id": "2jPQXG5Ijh0M",
      "execution_count": null,
      "outputs": [
        {
          "output_type": "stream",
          "name": "stdout",
          "text": [
            "what is the time\n"
          ]
        }
      ]
    },
    {
      "cell_type": "markdown",
      "source": [
        "### KEYWORDS"
      ],
      "metadata": {
        "id": "njP77erlkn_i"
      },
      "id": "njP77erlkn_i"
    },
    {
      "cell_type": "code",
      "source": [
        "p = 'I print stuff'\n",
        "print(p)"
      ],
      "metadata": {
        "colab": {
          "base_uri": "https://localhost:8080/"
        },
        "id": "omV610xqky55",
        "outputId": "c7942236-2e51-48af-b767-bf89450e819c"
      },
      "id": "omV610xqky55",
      "execution_count": null,
      "outputs": [
        {
          "output_type": "stream",
          "name": "stdout",
          "text": [
            "I print stuff\n"
          ]
        }
      ]
    },
    {
      "cell_type": "markdown",
      "source": [
        "### Commenting\n",
        "\n",
        "Comments are used to document code and provide explanations. They are ignored by the Python interpreter.\n",
        "\n",
        "Example:\n",
        "```python\n",
        "# This is a comment\n",
        "```"
      ],
      "metadata": {
        "id": "fWNuHpK4CvZh"
      },
      "id": "fWNuHpK4CvZh"
    },
    {
      "cell_type": "code",
      "source": [
        "# This code block outputs name!\n",
        "name = 'Athar'\n",
        "\n",
        "print(name)"
      ],
      "metadata": {
        "colab": {
          "base_uri": "https://localhost:8080/"
        },
        "id": "AU4Db1Lll7Zp",
        "outputId": "682dea95-9cb1-4b65-9d71-70f9a4073c29"
      },
      "id": "AU4Db1Lll7Zp",
      "execution_count": null,
      "outputs": [
        {
          "output_type": "stream",
          "name": "stdout",
          "text": [
            "Athar\n"
          ]
        }
      ]
    },
    {
      "cell_type": "code",
      "source": [
        "# Colab Info\n",
        "\n",
        "# 1. hold Shift + Enter --> runs code block and goes to block below\n",
        "# 2. hold Cntrl + Enter --> run the code block\n",
        "# 3. At the end of any line(code or comment) if hold Cntrl + / --> Making that entire line a comment line"
      ],
      "metadata": {
        "id": "3l5VXG-FmtPq"
      },
      "id": "3l5VXG-FmtPq",
      "execution_count": null,
      "outputs": []
    },
    {
      "cell_type": "code",
      "source": [
        "# about commenting shortcut\n",
        "name = \"Athar\"\n",
        "# name = \"Amar\"\n",
        "\n",
        "print(name)"
      ],
      "metadata": {
        "colab": {
          "base_uri": "https://localhost:8080/"
        },
        "id": "KL90hVj2nSdY",
        "outputId": "7798449f-b3f0-4400-fd78-cb5ee93d0ca9"
      },
      "id": "KL90hVj2nSdY",
      "execution_count": null,
      "outputs": [
        {
          "output_type": "stream",
          "name": "stdout",
          "text": [
            "Athar\n"
          ]
        }
      ]
    },
    {
      "cell_type": "markdown",
      "source": [
        "### Whitespace\n",
        "\n",
        "Python uses whitespace (spaces and tabs) for code organization. Use consistent indentation to define blocks of code, such as loops and conditional statements.\n",
        "\n"
      ],
      "metadata": {
        "id": "XZcfiRUAC0Gx"
      },
      "id": "XZcfiRUAC0Gx"
    },
    {
      "cell_type": "markdown",
      "source": [
        "## Variables and Assignments\n",
        "\n",
        "Variables are used to store data in Python. They are assigned values using the assignment operator (`=`).\n",
        "\n",
        "Example:\n",
        "```python\n",
        "x = 5\n",
        "```"
      ],
      "metadata": {
        "id": "yJBy9SCMC4Vh"
      },
      "id": "yJBy9SCMC4Vh"
    },
    {
      "cell_type": "markdown",
      "source": [
        "### Variable Naming\n",
        "\n",
        "Variable names must follow certain rules:\n",
        "- Start with a letter or underscore\n",
        "- Can contain letters, digits, and underscores\n",
        "- Case-sensitive"
      ],
      "metadata": {
        "id": "VB7vBmI2C8rQ"
      },
      "id": "VB7vBmI2C8rQ"
    },
    {
      "cell_type": "markdown",
      "source": [
        "### Assigning Values\n",
        "\n",
        "Values are assigned to variables using the assignment operator (`=`).\n",
        "\n",
        "Example:\n",
        "```python\n",
        "x = 5\n",
        "y = 'Hello'\n",
        "```\n",
        "\n"
      ],
      "metadata": {
        "id": "8dPkg7H-DEer"
      },
      "id": "8dPkg7H-DEer"
    },
    {
      "cell_type": "markdown",
      "source": [
        "### Variable Types\n",
        "\n",
        "Python has built-in data types, including numbers, strings, and booleans. The type of a variable is inferred based on the assigned value.\n",
        "\n",
        "Example:\n",
        "```python\n",
        "x = 5  # integer\n",
        "y = 'Hello'  # string\n",
        "z = True  # boolean\n",
        "```\n",
        "\n"
      ],
      "metadata": {
        "id": "zGvwgcFFDHuK"
      },
      "id": "zGvwgcFFDHuK"
    },
    {
      "cell_type": "code",
      "source": [
        "z = True\n",
        "a = False\n",
        "print(z)\n",
        "print(a)"
      ],
      "metadata": {
        "colab": {
          "base_uri": "https://localhost:8080/"
        },
        "id": "vRaNdFuNqyFm",
        "outputId": "0a621612-4bbb-4b74-b988-bcff8794d959"
      },
      "id": "vRaNdFuNqyFm",
      "execution_count": null,
      "outputs": [
        {
          "output_type": "stream",
          "name": "stdout",
          "text": [
            "True\n",
            "False\n"
          ]
        }
      ]
    },
    {
      "cell_type": "code",
      "source": [
        "type(True)"
      ],
      "metadata": {
        "colab": {
          "base_uri": "https://localhost:8080/"
        },
        "id": "ZuyhqByWq7id",
        "outputId": "cf714e65-fe5a-4f26-aac6-4e2e6511d911"
      },
      "id": "ZuyhqByWq7id",
      "execution_count": null,
      "outputs": [
        {
          "output_type": "execute_result",
          "data": {
            "text/plain": [
              "bool"
            ]
          },
          "metadata": {},
          "execution_count": 24
        }
      ]
    },
    {
      "cell_type": "code",
      "source": [
        "g = 100000000\n",
        "type(g)"
      ],
      "metadata": {
        "colab": {
          "base_uri": "https://localhost:8080/"
        },
        "id": "zn_vvXyErGlk",
        "outputId": "7d8fa55c-50ed-4505-e5e5-423103064184"
      },
      "id": "zn_vvXyErGlk",
      "execution_count": null,
      "outputs": [
        {
          "output_type": "execute_result",
          "data": {
            "text/plain": [
              "int"
            ]
          },
          "metadata": {},
          "execution_count": 26
        }
      ]
    },
    {
      "cell_type": "markdown",
      "source": [
        "## Operators\n",
        "\n",
        "Operators are used to perform operations on variables and values. Python supports a wide range of operators, including arithmetic, comparison, logical, and assignment operators.\n",
        "\n",
        "```python\n",
        "# Arithmetic Operators\n",
        "x = 10\n",
        "y = 3\n",
        "\n",
        "addition = x + y\n",
        "subtraction = x - y\n",
        "multiplication = x * y\n",
        "division = x / y\n",
        "modulus = x % y\n",
        "exponentiation = x ** y\n",
        "floor_division = x // y\n",
        "\n",
        "# Comparison Operators\n",
        "a = 5\n",
        "b = 3\n",
        "greater_than = a > b\n",
        "less_than = a < b\n",
        "equal_to = a == b\n",
        "not_equal_to = a != b\n",
        "greater_than_equal_to = a >= b\n",
        "less_than_equal_to = a <= b\n",
        "\n",
        "# Logical Operators\n",
        "p = True\n",
        "q = False\n",
        "\n",
        "logical_and = p and q\n",
        "logical_or = p or q\n",
        "logical_not = not p\n",
        "\n",
        "# Assignment Operators\n",
        "x = 5\n",
        "x += 3  # equivalent to x = x + 3\n",
        "x -= 2  # equivalent to x = x - 2\n",
        "x *= 4  # equivalent to x = x * 4\n",
        "x /= 2  # equivalent to x = x / 2\n",
        "x %= 3  # equivalent to x = x % 3\n",
        "x //= 2  # equivalent to x = x // 2\n",
        "x **= 3  # equivalent to x = x ** 3\n",
        "```"
      ],
      "metadata": {
        "id": "7NGxx_OpDLzY"
      },
      "id": "7NGxx_OpDLzY"
    },
    {
      "cell_type": "code",
      "source": [
        "# Arithmetic Operators\n",
        "x = 10\n",
        "y = 3\n",
        "\n",
        "addition = x + y\n",
        "subtraction = x - y\n",
        "multiplication = x * y\n",
        "division = x / y\n",
        "modulus = x % y\n",
        "exponentiation = x ** y\n",
        "floor_division = x // y\n",
        "if x//y==3:\n",
        "  print(\" not divisible by 3\")\n",
        "\n",
        "\n",
        "print(floor_division)"
      ],
      "metadata": {
        "colab": {
          "base_uri": "https://localhost:8080/"
        },
        "id": "6dN0vmj5rkxl",
        "outputId": "a3cd2d29-fcf1-4417-e3a6-5d67fb12febb"
      },
      "id": "6dN0vmj5rkxl",
      "execution_count": null,
      "outputs": [
        {
          "output_type": "stream",
          "name": "stdout",
          "text": [
            "3\n"
          ]
        }
      ]
    },
    {
      "cell_type": "code",
      "source": [
        "# Comparison Operators\n",
        "a = 5\n",
        "b = 3\n",
        "greater_than = a > b\n",
        "less_than = a < b\n",
        "equal_to = a == b\n",
        "not_equal_to = a != b\n",
        "greater_than_equal_to = a >= b\n",
        "less_than_equal_to = a <= b\n",
        "\n"
      ],
      "metadata": {
        "id": "3VG0nFVdrp7w"
      },
      "id": "3VG0nFVdrp7w",
      "execution_count": null,
      "outputs": []
    },
    {
      "cell_type": "code",
      "source": [
        "# Logical Operators\n",
        "p = True\n",
        "q = False\n",
        "\n",
        "logical_and = p and q\n",
        "logical_or = p or q\n",
        "logical_not = not p\n",
        "\n"
      ],
      "metadata": {
        "id": "b0BW8WSsCXcJ"
      },
      "id": "b0BW8WSsCXcJ",
      "execution_count": null,
      "outputs": []
    },
    {
      "cell_type": "code",
      "source": [
        "# Assignment Operators\n",
        "x = 5\n",
        "x += 3  # equivalent to x = x + 3\n",
        "x -= 2  # equivalent to x = x - 2\n",
        "x *= 4  # equivalent to x = x * 4\n",
        "x /= 2  # equivalent to x = x / 2\n",
        "x %= 3  # equivalent to x = x % 3\n",
        "x //= 2  # equivalent to x = x // 2\n",
        "x **= 3  # equivalent to x = x ** 3"
      ],
      "metadata": {
        "id": "h9d6FMBWuZaN"
      },
      "id": "h9d6FMBWuZaN",
      "execution_count": null,
      "outputs": []
    }
  ],
  "metadata": {
    "colab": {
      "provenance": [],
      "include_colab_link": true
    },
    "language_info": {
      "name": "python"
    },
    "kernelspec": {
      "name": "python3",
      "display_name": "Python 3"
    }
  },
  "nbformat": 4,
  "nbformat_minor": 5
}