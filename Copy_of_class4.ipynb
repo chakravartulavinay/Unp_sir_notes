{
  "cells": [
    {
      "cell_type": "markdown",
      "metadata": {
        "id": "view-in-github",
        "colab_type": "text"
      },
      "source": [
        "<a href=\"https://colab.research.google.com/github/chakravartulavinay/Unp_sir_notes/blob/main/Copy_of_class4.ipynb\" target=\"_parent\"><img src=\"https://colab.research.google.com/assets/colab-badge.svg\" alt=\"Open In Colab\"/></a>"
      ]
    },
    {
      "cell_type": "markdown",
      "metadata": {
        "id": "AARSgBbUY8o1"
      },
      "source": [
        "# File Input/Output\n",
        "\n",
        "Introduction to File Input/Output\n",
        "\n",
        "- File I/O allows reading and writing data to external files.\n",
        "- Python provides built-in functions and methods for file I/O operations.\n",
        "- File I/O is essential for tasks such as reading data from a file, writing data to a file, or modifying existing files."
      ],
      "id": "AARSgBbUY8o1"
    },
    {
      "cell_type": "markdown",
      "metadata": {
        "id": "AGbe0iWOY8o7"
      },
      "source": [
        "## Reading from a File\n",
        "\n",
        "To read data from a file, follow these steps:\n",
        "\n",
        "1. Open the file using the `open()` function.\n",
        "2. Use the `.read()` method to read the contents of the file.\n",
        "3. Close the file using the `.close()` method.\n",
        "\n",
        "Example:\n",
        "\n",
        "```python\n",
        "file = open('data.txt', 'r')\n",
        "content = file.read()\n",
        "file.close()\n",
        "print(content)\n",
        "```"
      ],
      "id": "AGbe0iWOY8o7"
    },
    {
      "cell_type": "code",
      "execution_count": null,
      "metadata": {
        "id": "31J5qnldY8o8"
      },
      "outputs": [],
      "source": [
        "file = open('data.txt', 'r')\n",
        "content = file.read()\n",
        "file.close()\n",
        "print(content)"
      ],
      "id": "31J5qnldY8o8"
    },
    {
      "cell_type": "markdown",
      "metadata": {
        "id": "wxD6n6caY8o-"
      },
      "source": [
        "## Writing to a File\n",
        "\n",
        "To write data to a file, follow these steps:\n",
        "\n",
        "1. Open the file in write mode using the `open()` function with the 'w' parameter.\n",
        "2. Use the `.write()` method to write data to the file.\n",
        "3. Close the file using the `.close()` method.\n",
        "\n",
        "Example:\n",
        "\n",
        "```python\n",
        "file = open('output.txt', 'w')\n",
        "file.write('Hello, World!')\n",
        "file.close()\n",
        "```"
      ],
      "id": "wxD6n6caY8o-"
    },
    {
      "cell_type": "code",
      "execution_count": null,
      "metadata": {
        "id": "KyVz4p89Y8o_"
      },
      "outputs": [],
      "source": [
        "file = open('output.txt', 'w')\n",
        "file.write('Hello, World!')\n",
        "file.close()"
      ],
      "id": "KyVz4p89Y8o_"
    },
    {
      "cell_type": "markdown",
      "metadata": {
        "id": "StagmNRFY8o_"
      },
      "source": [
        "## Appending to a File\n",
        "\n",
        "To append data to an existing file, follow these steps:\n",
        "\n",
        "1. Open the file in append mode using the `open()` function with the 'a' parameter.\n",
        "2. Use the `.write()` method to append data to the file.\n",
        "3. Close the file using the `.close()` method.\n",
        "\n",
        "Example:\n",
        "\n",
        "```python\n",
        "file = open('log.txt', 'a')\n",
        "file.write('New log entry\\n')\n",
        "file.close()\n",
        "```"
      ],
      "id": "StagmNRFY8o_"
    },
    {
      "cell_type": "code",
      "execution_count": null,
      "metadata": {
        "id": "dOO8frnjY8pA"
      },
      "outputs": [],
      "source": [
        "file = open('log.txt', 'a')\n",
        "file.write('New log entry\\n')\n",
        "file.close()"
      ],
      "id": "dOO8frnjY8pA"
    },
    {
      "cell_type": "markdown",
      "source": [
        "1. Reading from a file:\n",
        "To read data from a file in Python, you can use the `open()` function with the mode set to `'r'` (read). The `open()` function returns a file object, and you can use various methods to read data from it, such as `read()`, `readline()`, or `readlines()`.\n",
        "\n",
        "Syntax:\n",
        "```python\n",
        "file = open('filename.txt', 'r')\n",
        "# Perform read operations on the file\n",
        "file.close()\n",
        "```\n",
        "\n",
        "Example:\n",
        "Suppose you have a file named \"data.txt\" with the following content:\n",
        "```\n",
        "Hello, this is line 1.\n",
        "And this is line 2.\n",
        "```\n",
        "\n",
        "```python\n",
        "# Reading from a file\n",
        "file = open('data.txt', 'r')\n",
        "\n",
        "# Read the entire content at once\n",
        "content = file.read()\n",
        "print(content)\n",
        "\n",
        "file.close()\n",
        "```\n",
        "\n",
        "Output:\n",
        "```\n",
        "Hello, this is line 1.\n",
        "And this is line 2.\n",
        "```\n",
        "\n",
        "2. Writing to a file:\n",
        "To write data to a file in Python, you can use the `open()` function with the mode set to `'w'` (write). This will create a new file if it doesn't exist or truncate the existing file. You can use the `write()` method to write data to the file.\n",
        "\n",
        "Syntax:\n",
        "```python\n",
        "file = open('filename.txt', 'w')\n",
        "# Perform write operations on the file\n",
        "file.close()\n",
        "```\n",
        "\n",
        "Example:\n",
        "```python\n",
        "# Writing to a file\n",
        "file = open('output.txt', 'w')\n",
        "\n",
        "file.write('This is line 1.\\n')\n",
        "file.write('And this is line 2.\\n')\n",
        "\n",
        "file.close()\n",
        "```\n",
        "\n",
        "Output (in the \"output.txt\" file):\n",
        "```\n",
        "This is line 1.\n",
        "And this is line 2.\n",
        "```\n",
        "\n",
        "3. Appending to a file:\n",
        "To append data to an existing file in Python, you can use the `open()` function with the mode set to `'a'` (append). This will create a new file if it doesn't exist or add new content to the end of the existing file. You can use the `write()` method to append data to the file.\n",
        "\n",
        "Syntax:\n",
        "```python\n",
        "file = open('filename.txt', 'a')\n",
        "# Perform append operations on the file\n",
        "file.close()\n",
        "```\n",
        "\n",
        "Example:\n",
        "Suppose you have an existing file named \"data.txt\" with the following content:\n",
        "```\n",
        "This is line 1.\n",
        "```\n",
        "\n",
        "```python\n",
        "# Appending to a file\n",
        "file = open('data.txt', 'a')\n",
        "\n",
        "file.write('This is line 2.\\n')\n",
        "file.write('And this is line 3.\\n')\n",
        "\n",
        "file.close()\n",
        "```\n",
        "\n",
        "After running the above code, the \"data.txt\" file will contain:\n",
        "```\n",
        "This is line 1.\n",
        "This is line 2.\n",
        "And this is line 3.\n",
        "```\n",
        "\n",
        "Remember to always close the file after performing file operations using the `close()` method to release system resources and avoid potential data loss or corruption.\n",
        "\n",
        "Note: An even better way to handle file operations is by using the `with` statement, as it automatically closes the file for you after the block of code is executed. Here's an example:\n",
        "\n",
        "```python\n",
        "# Reading from a file using 'with' statement\n",
        "with open('data.txt', 'r') as file:\n",
        "    content = file.read()\n",
        "    print(content)\n",
        "\n",
        "# Writing to a file using 'with' statement\n",
        "with open('output.txt', 'w') as file:\n",
        "    file.write('This is line 1.\\n')\n",
        "    file.write('And this is line 2.\\n')\n",
        "\n",
        "# Appending to a file using 'with' statement\n",
        "with open('data.txt', 'a') as file:\n",
        "    file.write('This is line 2.\\n')\n",
        "    file.write('And this is line 3.\\n')\n",
        "```\n",
        "\n",
        "Using the `with` statement is a recommended approach for file handling in Python as it ensures proper file handling and exception handling."
      ],
      "metadata": {
        "id": "6EHVARwYaPhP"
      },
      "id": "6EHVARwYaPhP"
    },
    {
      "cell_type": "markdown",
      "source": [
        "Sure! I'll provide simplified code examples for some of the use cases mentioned earlier. Please note that the code examples are simplified to illustrate the concepts and may not include error handling or advanced features typically required in real-world applications.\n",
        "\n",
        "1. **Reading and Processing Data Files (CSV):**\n",
        "\n",
        "```python\n",
        "import csv\n",
        "\n",
        "# Reading data from a CSV file and calculating average grades\n",
        "with open('student_data.csv', 'r') as csvfile:\n",
        "    reader = csv.reader(csvfile)\n",
        "    next(reader)  # Skip header row\n",
        "    total_grades = 0\n",
        "    num_students = 0\n",
        "\n",
        "    for row in reader:\n",
        "        grade = int(row[2])  # Assuming grade is in the third column\n",
        "        total_grades += grade\n",
        "        num_students += 1\n",
        "\n",
        "    if num_students > 0:\n",
        "        average_grade = total_grades / num_students\n",
        "        print(f\"Average Grade: {average_grade:.2f}\")\n",
        "    else:\n",
        "        print(\"No data found.\")\n",
        "```\n",
        "\n",
        "2. **Storing User Information (Text File):**\n",
        "\n",
        "```python\n",
        "# User registration and storage in a text file\n",
        "username = input(\"Enter username: \")\n",
        "password = input(\"Enter password: \")\n",
        "\n",
        "with open('users.txt', 'a') as file:\n",
        "    file.write(f\"{username},{password}\\n\")\n",
        "```\n",
        "\n",
        "\n",
        "3. **Handling Large Datasets:**\n",
        "\n",
        "```python\n",
        "# Reading and processing a large dataset in chunks\n",
        "with open('large_dataset.csv', 'r') as csvfile:\n",
        "    reader = csv.reader(csvfile)\n",
        "    next(reader)  # Skip header row\n",
        "\n",
        "    chunk_size = 1000\n",
        "    while True:\n",
        "        chunk = [next(reader) for _ in range(chunk_size)]\n",
        "        if not chunk:\n",
        "            break\n",
        "\n",
        "        # Process the chunk of data\n",
        "        process_chunk(chunk)\n",
        "```\n",
        "\n",
        "4. **Creating Reports and Documents (Using f-strings):**\n",
        "\n",
        "```python\n",
        "# Creating a dynamic report\n",
        "name = \"John Doe\"\n",
        "age = 30\n",
        "score = 85\n",
        "\n",
        "report = f\"Student Name: {name}\\nAge: {age}\\nScore: {score}\"\n",
        "with open('report.txt', 'w') as file:\n",
        "    file.write(report)\n",
        "```\n",
        "\n",
        "These examples demonstrate some of the practical applications of file handling in Python for various use cases. Keep in mind that real-world implementations may require additional error handling, data validation, and other considerations to ensure robustness and security."
      ],
      "metadata": {
        "id": "n5TAXzwbaWrm"
      },
      "id": "n5TAXzwbaWrm"
    },
    {
      "cell_type": "markdown",
      "metadata": {
        "id": "zhxqZ_CNY8pA"
      },
      "source": [
        "# Error Handling and Exception Handling\n",
        "\n",
        "Introduction to Error Handling and Exception Handling\n",
        "\n",
        "- Errors and exceptions can occur during program execution.\n",
        "- Exception handling allows us to gracefully handle and recover from errors.\n",
        "- Python provides a `try-except` block to catch and handle exceptions.\n",
        "\n",
        "Example:\n",
        "\n",
        "```python\n",
        "try:\n",
        "    # Code that might raise an exception\n",
        "    result = 10 / 0\n",
        "except ZeroDivisionError:\n",
        "    print('Error: Cannot divide by zero')\n",
        "```"
      ],
      "id": "zhxqZ_CNY8pA"
    },
    {
      "cell_type": "code",
      "execution_count": null,
      "metadata": {
        "id": "1L09pPxYY8pB"
      },
      "outputs": [],
      "source": [
        "try:\n",
        "    result = 10 / 0\n",
        "except ZeroDivisionError:\n",
        "    print('Error: Cannot divide by zero')"
      ],
      "id": "1L09pPxYY8pB"
    },
    {
      "cell_type": "markdown",
      "metadata": {
        "id": "TXHwmiPLY8pC"
      },
      "source": [
        "## Handling Multiple Exceptions\n",
        "\n",
        "Handling Multiple Exceptions\n",
        "\n",
        "- Multiple exceptions can be handled using multiple `except` blocks.\n",
        "- Each `except` block specifies the type of exception to handle.\n",
        "\n",
        "Example:\n",
        "\n",
        "```python\n",
        "try:\n",
        "    # Code that might raise an exception\n",
        "    result = 10 / 0\n",
        "except ZeroDivisionError:\n",
        "    print('Error: Cannot divide by zero')\n",
        "except ValueError:\n",
        "    print('Error: Invalid value')\n",
        "```"
      ],
      "id": "TXHwmiPLY8pC"
    },
    {
      "cell_type": "code",
      "execution_count": null,
      "metadata": {
        "id": "inf7pA7LY8pC"
      },
      "outputs": [],
      "source": [
        "try:\n",
        "    result = 10 / 0\n",
        "except ZeroDivisionError:\n",
        "    print('Error: Cannot divide by zero')\n",
        "except ValueError:\n",
        "    print('Error: Invalid value')"
      ],
      "id": "inf7pA7LY8pC"
    },
    {
      "cell_type": "markdown",
      "source": [
        "The `try` and `except` blocks in Python are used to implement error handling or exception handling. They allow you to handle potential errors or exceptions that might occur during the execution of a block of code. By using a `try` block, you can specify the code that might raise an exception, and the `except` block defines the code to be executed if an exception occurs.\n",
        "\n",
        "The syntax for `try` and `except` blocks is as follows:\n",
        "\n",
        "```python\n",
        "try:\n",
        "    # Code that might raise an exception\n",
        "    # ...\n",
        "except ExceptionType:\n",
        "    # Code to handle the exception\n",
        "    # ...\n",
        "```\n",
        "\n",
        "Here's a detailed explanation of the components of the `try` and `except` blocks:\n",
        "\n",
        "1. `try` block:\n",
        "   - The `try` block contains the code that may raise an exception. It is the part of the code that you want to protect from errors.\n",
        "   - When the code inside the `try` block encounters an exception, the flow of execution immediately jumps to the corresponding `except` block without executing the rest of the code in the `try` block.\n",
        "\n",
        "2. `except` block:\n",
        "   - The `except` block defines the code that should be executed if an exception occurs in the `try` block. It handles the exception.\n",
        "   - The `except` block must be indented and starts with the keyword `except` followed by the type of exception it handles.\n",
        "   - You can specify the type of exception you want to catch after the `except` keyword, for example, `except ValueError` or `except FileNotFoundError`.\n",
        "   - If you don't specify any exception type (using just `except:` without specifying the exception), it will catch all exceptions, but it is generally not recommended as it may hide unexpected errors.\n",
        "\n",
        "3. `ExceptionType`:\n",
        "   - `ExceptionType` refers to the specific type of exception that you want to catch. It can be any built-in exception class or a custom exception that you have defined.\n",
        "   - If the code inside the `try` block raises an exception of the specified type, the corresponding `except` block will be executed.\n",
        "   - If the exception raised does not match the type specified in the `except` block, it will not be caught, and the program may terminate with an unhandled exception.\n",
        "\n",
        "Here's an example to illustrate the usage of `try` and `except` blocks:\n",
        "\n",
        "```python\n",
        "try:\n",
        "    num1 = int(input(\"Enter a number: \"))\n",
        "    num2 = int(input(\"Enter another number: \"))\n",
        "    result = num1 / num2\n",
        "    print(f\"Result: {result}\")\n",
        "except ValueError:\n",
        "    print(\"Please enter valid integers.\")\n",
        "except ZeroDivisionError:\n",
        "    print(\"Cannot divide by zero.\")\n",
        "except Exception as e:\n",
        "    print(f\"An unexpected error occurred: {e}\")\n",
        "```\n",
        "\n",
        "In this example:\n",
        "- The code inside the `try` block attempts to get two integers from the user and perform division.\n",
        "- If the user enters invalid inputs (non-integer values), a `ValueError` will be raised and caught by the first `except` block.\n",
        "- If the user enters zero as the second number, a `ZeroDivisionError` will be raised and caught by the second `except` block.\n",
        "- If any other unexpected error occurs, it will be caught by the generic `Exception` block, displaying a generic error message with the actual exception information.\n",
        "\n",
        "By using `try` and `except` blocks, you can gracefully handle errors and exceptions in your code, preventing unexpected program termination and providing meaningful feedback to users. It's essential to handle specific exceptions when you know how to recover from them and use a more generic `Exception` block for any unanticipated errors that may occur."
      ],
      "metadata": {
        "id": "rdSvJ8p6bnde"
      },
      "id": "rdSvJ8p6bnde"
    },
    {
      "cell_type": "markdown",
      "metadata": {
        "id": "Ldit5bcfY8pD"
      },
      "source": [
        "# Introduction to NumPy\n",
        "\n",
        "NumPy (Numerical Python) is a powerful library for numerical computations in Python.\n",
        "It provides support for large, multi-dimensional arrays and matrices.\n",
        "NumPy is widely used in scientific computing, data analysis, and machine learning.\n",
        "\n"
      ],
      "id": "Ldit5bcfY8pD"
    },
    {
      "cell_type": "markdown",
      "source": [
        "NumPy, short for Numerical Python, is a powerful library for numerical and scientific computing in Python. It provides support for large, multi-dimensional arrays and matrices, as well as a wide range of mathematical functions to operate on these arrays. NumPy is widely used in various fields such as data science, machine learning, engineering, and scientific research.\n",
        "\n",
        "Here's a brief explanation of NumPy's key features and benefits:\n",
        "\n",
        "1. **N-dimensional Arrays (ndarrays):**\n",
        "\n",
        "   NumPy's primary data structure is the `ndarray`, which stands for N-dimensional array. These arrays are homogeneous and allow you to store elements of the same data type. They are highly efficient and allow fast operations on large datasets.\n",
        "\n",
        "2. **Mathematical Operations:**\n",
        "   NumPy provides a vast collection of mathematical functions that can be applied to entire arrays, making it convenient to perform element-wise operations without using loops. This is known as vectorization, and it significantly improves performance.\n",
        "\n",
        "3. **Broadcasting:**\n",
        "   NumPy supports broadcasting, which allows operations between arrays of different shapes and sizes, making it easier to handle arrays of different dimensions.\n",
        "\n",
        "4. **Indexing and Slicing:**\n",
        "   NumPy offers powerful indexing and slicing capabilities, similar to Python lists, but with more flexibility to work with multi-dimensional arrays.\n",
        "\n",
        "5. **Random Number Generation:**\n",
        "   NumPy includes functions to generate random numbers, which are useful for simulations, testing, and various statistical applications.\n",
        "\n",
        "6. **Integration with C/C++ and Fortran:**\n",
        "   NumPy provides tools to integrate with existing C/C++ and Fortran code, making it a great choice for scientific applications with legacy codebases.\n",
        "\n",
        "7. **Efficient Memory Usage:**\n",
        "   NumPy's arrays are more memory-efficient compared to Python lists, as they are stored in contiguous blocks of memory.\n",
        "\n",
        "8. **Linear Algebra Operations:**\n",
        "   NumPy offers an extensive set of linear algebra functions, such as matrix operations, eigenvalues, eigenvectors, and more.\n",
        "\n",
        "You can import NumPy and start using its features in your code:\n",
        "\n",
        "```python\n",
        "import numpy as np\n",
        "\n",
        "# Creating a 1-dimensional NumPy array\n",
        "arr = np.array([1, 2, 3, 4, 5])\n",
        "\n",
        "# Performing element-wise operations\n",
        "result = arr + 10\n",
        "print(result)  # Output: [11 12 13 14 15]\n",
        "\n",
        "# Generating a 2-dimensional array\n",
        "matrix = np.array([[1, 2], [3, 4]])\n",
        "\n",
        "# Matrix multiplication\n",
        "product = np.dot(matrix, matrix)\n",
        "print(product)  # Output: [[ 7 10]\n",
        "                #          [15 22]]\n",
        "```\n",
        "\n",
        "NumPy's intuitive syntax and powerful array operations make it an essential library for data manipulation, numerical computations, and scientific computing in Python. It forms the foundation of many other Python libraries used in data science and machine learning, such as Pandas and scikit-learn."
      ],
      "metadata": {
        "id": "-zAoy4H2cYBD"
      },
      "id": "-zAoy4H2cYBD"
    },
    {
      "cell_type": "markdown",
      "metadata": {
        "id": "yQ_WzYKmY8pD"
      },
      "source": [
        "# NumPy Arrays\n",
        "\n",
        "NumPy arrays are homogeneous, multi-dimensional data structures.\n",
        "They can be created using the np.array() function.\n",
        "Arrays have a fixed size and a specific shape, which can be accessed using the .shape attribute.\n",
        "\n",
        "Example:\n",
        "```python\n",
        "import numpy as np\n",
        "\n",
        "arr = np.array([1, 2, 3, 4, 5])\n",
        "print(arr)         # Output: [1 2 3 4 5]\n",
        "print(arr.shape)   # Output: (5,)\n",
        "```\n",
        "\n"
      ],
      "id": "yQ_WzYKmY8pD"
    },
    {
      "cell_type": "code",
      "source": [
        "import numpy as np\n",
        "\n",
        "arr = np.array([1, 2, 3, 4, 5])\n",
        "print(arr) # Output: [1 2 3 4 5]\n",
        "print(type(arr))\n",
        "print(arr.shape)   # Output: (5,)"
      ],
      "metadata": {
        "colab": {
          "base_uri": "https://localhost:8080/"
        },
        "id": "zuBbQpTJ89CR",
        "outputId": "df1a0473-354c-4b2e-b184-bfd13efc9186"
      },
      "id": "zuBbQpTJ89CR",
      "execution_count": null,
      "outputs": [
        {
          "output_type": "stream",
          "name": "stdout",
          "text": [
            "[1 2 3 4 5]\n",
            "<class 'numpy.ndarray'>\n",
            "(5,)\n"
          ]
        }
      ]
    },
    {
      "cell_type": "code",
      "source": [
        "matrix = np.array([[1,2,3],[4,5,6]])\n",
        "print(matrix)"
      ],
      "metadata": {
        "colab": {
          "base_uri": "https://localhost:8080/"
        },
        "id": "_Gvz_YVc99XJ",
        "outputId": "7eece8b5-5adc-4151-8907-51ea351e2594"
      },
      "id": "_Gvz_YVc99XJ",
      "execution_count": null,
      "outputs": [
        {
          "output_type": "stream",
          "name": "stdout",
          "text": [
            "[[1 2 3]\n",
            " [4 5 6]]\n"
          ]
        }
      ]
    },
    {
      "cell_type": "code",
      "source": [
        "print(matrix.shape)"
      ],
      "metadata": {
        "colab": {
          "base_uri": "https://localhost:8080/"
        },
        "id": "4GQZqu57-R-7",
        "outputId": "89d98cb4-dcf9-4e0a-c69d-a65c721cf49e"
      },
      "id": "4GQZqu57-R-7",
      "execution_count": null,
      "outputs": [
        {
          "output_type": "stream",
          "name": "stdout",
          "text": [
            "(2, 3)\n"
          ]
        }
      ]
    },
    {
      "cell_type": "code",
      "source": [
        "m = np.array([[1,2],[3,4]])\n",
        "print(\"Matrix: \\n\")\n",
        "print(m)\n",
        "print(\" \\n\")\n",
        "r = m @ m # Shortcut for matrix mult.\n",
        "# r = np.dot(m, m)\n",
        "print(\"After Mult: m x m \\n\")\n",
        "print(r)"
      ],
      "metadata": {
        "colab": {
          "base_uri": "https://localhost:8080/"
        },
        "id": "YzZVfeU_-_4w",
        "outputId": "6b7ae792-134e-49cf-e6f0-a428758fe258"
      },
      "id": "YzZVfeU_-_4w",
      "execution_count": null,
      "outputs": [
        {
          "output_type": "stream",
          "name": "stdout",
          "text": [
            "Matrix: \n",
            "\n",
            "[[1 2]\n",
            " [3 4]]\n",
            " \n",
            "\n",
            "After Mult: m x m \n",
            "\n",
            "[[ 7 10]\n",
            " [15 22]]\n"
          ]
        }
      ]
    },
    {
      "cell_type": "markdown",
      "metadata": {
        "id": "lIizEX0mY8pD"
      },
      "source": [
        "# Indexing and Slicing NumPy Arrays\n",
        "\n",
        "NumPy arrays can be indexed and sliced similar to Python lists.\n",
        "Indexing starts at 0, and negative indices count from the end of the array.\n",
        "Slicing allows us to extract specific parts of an array.\n",
        "\n",
        "Example:\n",
        "```python\n",
        "import numpy as np\n",
        "\n",
        "arr = np.array([1, 2, 3, 4, 5])\n",
        "print(arr[0])         # Output: 1\n",
        "print(arr[-1])        # Output: 5\n",
        "print(arr[1:4])       # Output: [2 3 4]\n",
        "```\n",
        "\n"
      ],
      "id": "lIizEX0mY8pD"
    },
    {
      "cell_type": "code",
      "source": [
        "arr = np.array([1, 2, 3, 4, 5])\n",
        "print(arr[0])         # Output: 1\n",
        "print(arr[-1])        # Output: 5\n",
        "print(arr[1:4])       # Output: [2 3 4]"
      ],
      "metadata": {
        "colab": {
          "base_uri": "https://localhost:8080/"
        },
        "id": "j-M09lKyCQgi",
        "outputId": "e027c269-2d11-42fd-de86-834362424281"
      },
      "id": "j-M09lKyCQgi",
      "execution_count": null,
      "outputs": [
        {
          "output_type": "stream",
          "name": "stdout",
          "text": [
            "1\n",
            "5\n",
            "[2 3 4]\n"
          ]
        }
      ]
    },
    {
      "cell_type": "code",
      "source": [
        "data = np.array(\n",
        "    [[1, 200, 3, 4, 17],\n",
        "      [166, 4, 30, 4, 5],\n",
        "      [71, 20, 6, 4, 12],\n",
        "      [61, 9, 3, 0, 5],\n",
        "      [1050, 20, 9, 4, 1000]]\n",
        "                )"
      ],
      "metadata": {
        "id": "IKV_SZDSCvhp"
      },
      "id": "IKV_SZDSCvhp",
      "execution_count": null,
      "outputs": []
    },
    {
      "cell_type": "code",
      "source": [
        "data.shape"
      ],
      "metadata": {
        "colab": {
          "base_uri": "https://localhost:8080/"
        },
        "id": "Nw6STdgfDThR",
        "outputId": "0eb415f5-d2dd-4a63-b926-d2f93d975989"
      },
      "id": "Nw6STdgfDThR",
      "execution_count": null,
      "outputs": [
        {
          "output_type": "execute_result",
          "data": {
            "text/plain": [
              "(5, 5)"
            ]
          },
          "metadata": {},
          "execution_count": 23
        }
      ]
    },
    {
      "cell_type": "code",
      "source": [
        "print(data)"
      ],
      "metadata": {
        "colab": {
          "base_uri": "https://localhost:8080/"
        },
        "id": "T5bFk5sDDmic",
        "outputId": "e2061a62-0d6c-4d27-d8dc-071b404caddf"
      },
      "id": "T5bFk5sDDmic",
      "execution_count": null,
      "outputs": [
        {
          "output_type": "stream",
          "name": "stdout",
          "text": [
            "[[   1  200    3    4   17]\n",
            " [ 166    4   30    4    5]\n",
            " [  71   20    6    4   12]\n",
            " [  61    9    3    0    5]\n",
            " [1050   20    9    4 1000]]\n"
          ]
        }
      ]
    },
    {
      "cell_type": "code",
      "source": [
        "# I want 1-3 row and 2-4 column\n",
        "\n",
        "data_sliced = data[:4,1:4]\n",
        "print(data_sliced)"
      ],
      "metadata": {
        "colab": {
          "base_uri": "https://localhost:8080/"
        },
        "id": "RTgF0ylEDHs6",
        "outputId": "759efe41-5a9c-4d1f-bd8f-26e76506251a"
      },
      "id": "RTgF0ylEDHs6",
      "execution_count": null,
      "outputs": [
        {
          "output_type": "stream",
          "name": "stdout",
          "text": [
            "[[200   3   4]\n",
            " [  4  30   4]\n",
            " [ 20   6   4]\n",
            " [  9   3   0]]\n"
          ]
        }
      ]
    },
    {
      "cell_type": "markdown",
      "metadata": {
        "id": "Gwa6lDcuY8pD"
      },
      "source": [
        "# NumPy Array Operations (continued)\n",
        "\n",
        "NumPy provides a wide range of mathematical and logical operations on arrays.\n",
        "These operations can be performed element-wise or across entire arrays.\n",
        "Let's explore some commonly used NumPy operations:\n",
        "\n"
      ],
      "id": "Gwa6lDcuY8pD"
    },
    {
      "cell_type": "markdown",
      "metadata": {
        "id": "iJiYHHkPY8pD"
      },
      "source": [
        "# Mathematical Operations\n",
        "\n",
        "NumPy supports various mathematical operations on arrays, such as addition, subtraction, multiplication, and division.\n",
        "These operations can be performed element-wise between two arrays or between an array and a scalar value.\n",
        "\n",
        "Example:\n",
        "```python\n",
        "import numpy as np\n",
        "\n",
        "arr1 = np.array([1, 2, 3])\n",
        "arr2 = np.array([4, 5, 6])\n",
        "\n",
        "result = arr1 + arr2\n",
        "print(result)  # Output: [5 7 9]\n",
        "\n",
        "result = arr1 * 2\n",
        "print(result)  # Output: [2 4 6]\n",
        "```\n",
        "\n"
      ],
      "id": "iJiYHHkPY8pD"
    },
    {
      "cell_type": "markdown",
      "metadata": {
        "id": "vIYG1Ym_Y8pH"
      },
      "source": [
        "# Statistical Functions\n",
        "\n",
        "NumPy provides a wide range of statistical functions to analyze data in arrays.\n",
        "These functions allow us to compute measures such as mean, median, standard deviation, and more.\n",
        "\n",
        "Example:\n",
        "```python\n",
        "import numpy as np\n",
        "\n",
        "arr = np.array([1, 2, 3, 4, 5])\n",
        "\n",
        "mean = np.mean(arr)\n",
        "print(mean)  # Output: 3.0\n",
        "\n",
        "median = np.median(arr)\n",
        "print(median)  # Output: 3.0\n",
        "\n",
        "std = np.std(arr)\n",
        "print(std)  # Output: 1.4142135623730951\n",
        "```\n",
        "\n"
      ],
      "id": "vIYG1Ym_Y8pH"
    },
    {
      "cell_type": "code",
      "source": [
        "data = np.array(\n",
        "    [[1, 200, 3, 4, 17],\n",
        "      [166, 4, 30, 4, 5],\n",
        "      [71, 20, 6, 4, 12],\n",
        "      [61, 9, 3, 0, 5],\n",
        "      [1050, 20, 9, 4, 1000],\n",
        "     [1770, 120, 29, 45, 9000]]\n",
        "                )\n",
        "print(\"mean accross columns and rows: \", np.mean(data), \"\\n\") # Add all elements / num of elements\n",
        "\n",
        "print(\"shape of data: \", data.shape[0], \"rows\", data.shape[1], \"columns \\n\")\n",
        "\n",
        "print(data)"
      ],
      "metadata": {
        "colab": {
          "base_uri": "https://localhost:8080/"
        },
        "id": "IjiGV4dOFmGa",
        "outputId": "8409d27f-7e8d-4767-c3e3-abf39aa45b37"
      },
      "id": "IjiGV4dOFmGa",
      "execution_count": null,
      "outputs": [
        {
          "output_type": "stream",
          "name": "stdout",
          "text": [
            "mean accross columns and rows:  455.73333333333335 \n",
            "\n",
            "shape of data:  6 rows 5 columns \n",
            "\n",
            "[[   1  200    3    4   17]\n",
            " [ 166    4   30    4    5]\n",
            " [  71   20    6    4   12]\n",
            " [  61    9    3    0    5]\n",
            " [1050   20    9    4 1000]\n",
            " [1770  120   29   45 9000]]\n"
          ]
        }
      ]
    },
    {
      "cell_type": "code",
      "source": [
        "print(\"Taking the mean accross rows \\n\")\n",
        "mean = np.mean(data, axis = 0)\n",
        "print(\"shape of mean: \", mean.shape)\n",
        "print(mean)"
      ],
      "metadata": {
        "colab": {
          "base_uri": "https://localhost:8080/"
        },
        "id": "9I9vQ8QhJgn4",
        "outputId": "9d1c1794-73e6-41ed-f8ab-b61f9d3d360c"
      },
      "id": "9I9vQ8QhJgn4",
      "execution_count": null,
      "outputs": [
        {
          "output_type": "stream",
          "name": "stdout",
          "text": [
            "Taking the mean accross rows \n",
            "\n",
            "shape of mean:  (5,)\n",
            "[ 519.83333333   62.16666667   13.33333333   10.16666667 1673.16666667]\n"
          ]
        }
      ]
    },
    {
      "cell_type": "code",
      "source": [
        "print(\"Taking the mean across columns \\n\")\n",
        "mean = np.mean(data, axis = 1)\n",
        "print(\"shape of mean: \", mean.shape)\n",
        "print(mean)"
      ],
      "metadata": {
        "colab": {
          "base_uri": "https://localhost:8080/"
        },
        "id": "I1mBTCQ5KeF3",
        "outputId": "85f80eac-7ad0-4b5e-9dde-50b3f0a5ffe2"
      },
      "id": "I1mBTCQ5KeF3",
      "execution_count": null,
      "outputs": [
        {
          "output_type": "stream",
          "name": "stdout",
          "text": [
            "Taking the mean across columns \n",
            "\n",
            "shape of mean:  (6,)\n",
            "[  45.    41.8   22.6   15.6  416.6 2192.8]\n"
          ]
        }
      ]
    },
    {
      "cell_type": "markdown",
      "metadata": {
        "id": "-Z6JIaMpY8pH"
      },
      "source": [
        "# Array Comparison and Logical Operations\n",
        "\n",
        "NumPy enables us to perform element-wise comparisons between arrays.\n",
        "Logical operations such as AND, OR, and NOT can also be applied to arrays.\n",
        "\n",
        "Example:\n",
        "```python\n",
        "import numpy as np\n",
        "\n",
        "arr1 = np.array([1, 2, 3])\n",
        "arr2 = np.array([2, 2, 4])\n",
        "\n",
        "greater_than = arr1 > arr2\n",
        "print(greater_than)  # Output: [False False False]\n",
        "\n",
        "logical_and = np.logical_and(arr1 > 1, arr2 < 3)\n",
        "print(logical_and)  # Output: [False  True False]\n",
        "```\n",
        "\n"
      ],
      "id": "-Z6JIaMpY8pH"
    },
    {
      "cell_type": "markdown",
      "metadata": {
        "id": "KJPfCcB8Y8pH"
      },
      "source": [
        "# Array Aggregation Functions\n",
        "\n",
        "NumPy provides functions to aggregate arrays by computing a single value from the entire array.\n",
        "These functions include sum, min, max, and more.\n",
        "\n",
        "Example:\n",
        "```python\n",
        "import numpy as np\n",
        "\n",
        "arr = np.array([1, 2, 3, 4, 5])\n",
        "\n",
        "sum = np.sum(arr)\n",
        "print(sum)  # Output: 15\n",
        "\n",
        "min_val = np.min(arr)\n",
        "print(min_val)  # Output: 1\n",
        "\n",
        "max_val = np.max(arr)\n",
        "print(max_val)  # Output: 5\n",
        "```\n",
        "\n"
      ],
      "id": "KJPfCcB8Y8pH"
    },
    {
      "cell_type": "markdown",
      "metadata": {
        "id": "jnz8i8UaY8pI"
      },
      "source": [
        "# Array Reshaping and Transposition\n",
        "\n",
        "NumPy allows us to reshape arrays using the .reshape() method.\n",
        "Transposition can be performed using the .T attribute or the np.transpose() function.\n",
        "\n",
        "Example:\n",
        "```python\n",
        "import numpy asnp\n",
        "\n",
        "arr = np.array([[1, 2, 3], [4, 5, 6]])\n",
        "\n",
        "reshaped = arr.reshape((3, 2))\n",
        "print(reshaped)\n",
        "# Output:\n",
        "# [[1 2]\n",
        "#  [3 4]\n",
        "#  [5 6]]\n",
        "\n",
        "transposed = arr.T\n",
        "print(transposed)\n",
        "# Output:\n",
        "# [[1 4]\n",
        "#  [2 5]\n",
        "#  [3 6]]\n",
        "```\n",
        "\n"
      ],
      "id": "jnz8i8UaY8pI"
    },
    {
      "cell_type": "markdown",
      "metadata": {
        "id": "r4pcVo2GY8pI"
      },
      "source": [
        "# Universal Functions (ufunc)\n",
        "\n",
        "Universal Functions (ufunc) in NumPy are functions that operate element-wise on arrays.\n",
        "They provide fast, vectorized operations and support a wide range of mathematical computations.\n",
        "\n",
        "Example:\n",
        "```python\n",
        "import numpy as np\n",
        "\n",
        "arr = np.array([1, 2, 3, 4, 5])\n",
        "\n",
        "squared = np.square(arr)\n",
        "print(squared)  # Output: [ 1  4  9 16 25]\n",
        "\n",
        "exponential = np.exp(arr)\n",
        "print(exponential)  # Output: [  2.71828183   7.3890561   20.08553692  54.59815003 148.4131591 ]\n",
        "```\n",
        "\n"
      ],
      "id": "r4pcVo2GY8pI"
    },
    {
      "cell_type": "markdown",
      "metadata": {
        "id": "uT5vEJV4Y8pI"
      },
      "source": [
        "# Matrix Multiplication and Linear Regression\n",
        "\n",
        "Matrix multiplication is a fundamental operation in linear algebra and has practical applications, such as in linear regression.\n",
        "Linear regression is a statistical modeling technique that explores the relationship between independent variables and a dependent variable.\n",
        "\n"
      ],
      "id": "uT5vEJV4Y8pI"
    },
    {
      "cell_type": "markdown",
      "metadata": {
        "id": "kgjUa9dkY8pI"
      },
      "source": [
        "# Matrix Multiplication\n",
        "\n",
        "Matrix multiplication involves multiplying corresponding elements of rows and columns to produce a new matrix.\n",
        "In NumPy, matrix multiplication can be performed using the np.dot() function or the @ operator.\n",
        "\n",
        "Example:\n",
        "```python\n",
        "import numpy as np\n",
        "\n",
        "A = np.array([[1, 2], [3, 4]])\n",
        "B = np.array([[5, 6], [7, 8]])\n",
        "\n",
        "result = np.dot(A, B)\n",
        "print(result)\n",
        "# Output:\n",
        "# [[19 22]\n",
        "#  [43 50]]\n",
        "```\n",
        "\n"
      ],
      "id": "kgjUa9dkY8pI"
    },
    {
      "cell_type": "markdown",
      "metadata": {
        "id": "Kv9F4kh7Y8pJ"
      },
      "source": [
        "# Linear Regression and Matrix Multiplication\n",
        "\n",
        "In linear regression, matrix multiplication is used to calculate the predicted values based on input features and their corresponding coefficients.\n",
        "The equation for simple linear regression can be represented using matrix multiplication: y = X @ theta, where X is the input matrix and theta is the coefficient matrix.\n",
        "\n",
        "Example:\n",
        "```python\n",
        "import numpy as np\n",
        "\n",
        "X = np.array([[1, 3], [2, 4], [5, 6]])  # Input features\n",
        "theta = np.array([[2], [3]])            # Coefficients\n",
        "\n",
        "y = X @ theta\n",
        "print(y)\n",
        "# Output:\n",
        "# [[11]\n",
        "#  [16]\n",
        "#  [28]]\n",
        "```\n",
        "\n"
      ],
      "id": "Kv9F4kh7Y8pJ"
    },
    {
      "cell_type": "markdown",
      "metadata": {
        "id": "EovVRrnRY8pJ"
      },
      "source": [
        "# Summary and Next Steps\n",
        "\n",
        "In Class 4, we covered various topics, including File Input/Output, Error Handling and Exception Handling, and NumPy operations, including array manipulation and matrix multiplication.\n",
        "File I/O is essential for reading and writing data to external files.\n",
        "Exception handling allows us to handle and recover from errors during program execution.\n",
        "NumPy provides a wide range of operations for working with arrays, including mathematical operations, statistical functions, array manipulation, and matrix multiplication.\n"
      ],
      "id": "EovVRrnRY8pJ"
    },
    {
      "cell_type": "code",
      "source": [],
      "metadata": {
        "id": "-UThN5XEcBD7"
      },
      "id": "-UThN5XEcBD7",
      "execution_count": null,
      "outputs": []
    }
  ],
  "metadata": {
    "language_info": {
      "name": "python"
    },
    "colab": {
      "provenance": [],
      "include_colab_link": true
    },
    "kernelspec": {
      "name": "python3",
      "display_name": "Python 3"
    }
  },
  "nbformat": 4,
  "nbformat_minor": 5
}