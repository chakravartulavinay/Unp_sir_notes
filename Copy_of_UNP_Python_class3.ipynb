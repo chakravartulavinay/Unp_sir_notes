{
  "cells": [
    {
      "cell_type": "markdown",
      "metadata": {
        "id": "view-in-github",
        "colab_type": "text"
      },
      "source": [
        "<a href=\"https://colab.research.google.com/github/chakravartulavinay/Unp_sir_notes/blob/main/Copy_of_UNP_Python_class3.ipynb\" target=\"_parent\"><img src=\"https://colab.research.google.com/assets/colab-badge.svg\" alt=\"Open In Colab\"/></a>"
      ]
    },
    {
      "cell_type": "markdown",
      "metadata": {
        "id": "3L-3HNtXJcD-"
      },
      "source": [
        "# Introduction to Data Structures\n",
        "\n",
        "Definition and importance of data structures\n",
        "Overview of different data structures used in Python"
      ],
      "id": "3L-3HNtXJcD-"
    },
    {
      "cell_type": "markdown",
      "metadata": {
        "id": "OT35EpxsJcEB"
      },
      "source": [
        "# Lists\n",
        "\n",
        "Introduction to lists\n",
        "\n",
        "- Lists are ordered and mutable collections of items.\n",
        "\n",
        "Creating and accessing lists\n",
        "\n",
        "```python\n",
        "my_list = [1, 2, 3, 4, 5]\n",
        "```\n",
        "\n",
        "Modifying lists (appending, inserting, and deleting elements)\n",
        "\n",
        "```python\n",
        "my_list.append(6)\n",
        "my_list.insert(2, 10)\n",
        "del my_list[1]\n",
        "```\n",
        "\n",
        "Slicing and indexing in lists\n",
        "\n",
        "```python\n",
        "print(my_list[1:4])  # Output: [2, 10, 4]\n",
        "```"
      ],
      "id": "OT35EpxsJcEB"
    },
    {
      "cell_type": "markdown",
      "source": [
        "Let's dive deeper into the syntax of Python lists.\n",
        "\n",
        "1. Creating a list:\n",
        "   Lists are created by enclosing comma-separated elements within square brackets ([]). Elements can be of any data type, and a list can contain elements of different types. Here's an example:\n",
        "   ```python\n",
        "   my_list = [1, 2, \"three\", True, [4, 5]]\n",
        "   ```\n",
        "\n",
        "2. Accessing elements:\n",
        "   Elements in a list are accessed using their indices. Python uses 0-based indexing, which means the first element has an index of 0, the second element has an index of 1, and so on. You can access an element by specifying its index within square brackets after the list name. For example:\n",
        "   ```python\n",
        "   my_list = [10, 20, 30, 40, 50]\n",
        "   print(my_list[0])  # Output: 10\n",
        "   print(my_list[2])  # Output: 30\n",
        "   ```\n",
        "\n",
        "3. Negative indexing:\n",
        "   Python also supports negative indexing, where -1 refers to the last element, -2 refers to the second-to-last element, and so on. This can be useful when you want to access elements from the end of the list. For example:\n",
        "   ```python\n",
        "   my_list = [10, 20, 30, 40, 50]\n",
        "   print(my_list[-1])  # Output: 50\n",
        "   print(my_list[-3])  # Output: 30\n",
        "   ```\n",
        "\n",
        "4. List slicing:\n",
        "   You can extract a portion of a list using slice notation. The slice is specified as `start:stop:step`, where `start` is the starting index (inclusive), `stop` is the ending index (exclusive), and `step` is the stride size. If any of these values are omitted, they default to the following:\n",
        "   - `start` defaults to 0\n",
        "   - `stop` defaults to the length of the list\n",
        "   - `step` defaults to 1\n",
        "   Here are some examples:\n",
        "   ```python\n",
        "   my_list = [10, 20, 30, 40, 50]\n",
        "   print(my_list[1:4])    # Output: [20, 30, 40]\n",
        "   print(my_list[:3])     # Output: [10, 20, 30]\n",
        "   print(my_list[2:])     # Output: [30, 40, 50]\n",
        "   print(my_list[::2])    # Output: [10, 30, 50]\n",
        "   print(my_list[::-1])   # Output: [50, 40, 30, 20, 10]\n",
        "   ```\n",
        "\n",
        "5. Modifying elements:\n",
        "   Lists are mutable, which means you can modify individual elements by assigning new values to specific indices. To change an element, specify the index and use the assignment operator (`=`) to assign the new value. For example:\n",
        "   ```python\n",
        "   my_list = [10, 20, 30, 40, 50]\n",
        "   my_list[2] = 35\n",
        "   print(my_list)  # Output: [10, 20, 35, 40, 50]\n",
        "   ```\n",
        "\n",
        "6. List concatenation:\n",
        "   You can concatenate two or more lists using the `+` operator. This creates a new list that contains all the elements from the original lists. For example:\n",
        "   ```python\n",
        "   list1 = [1, 2, 3]\n",
        "   list2 = [4, 5, 6]\n",
        "   concatenated_list = list1 + list2\n",
        "   print(concatenated_list)  # Output: [1, 2, 3, 4, 5, 6]\n",
        "   ```\n",
        "\n",
        "7. List repetition:\n",
        "   You can repeat a list multiple times using the `*` operator. This creates a new list that contains the elements of the original list repeated the specified number of times. For example:\n",
        "   ```python\n",
        "   my_list = [1, 2, 3]\n",
        "   repeated_list = my_list * 3\n",
        "   print(repeated_list)  # Output: [1, 2, 3, 1, 2, 3, 1, 2, 3]\n",
        "   ```"
      ],
      "metadata": {
        "id": "Sgvma-_hINLF"
      },
      "id": "Sgvma-_hINLF"
    },
    {
      "cell_type": "code",
      "source": [
        "my_list = [1,2,34,55,66]\n",
        "print(my_list[-1])"
      ],
      "metadata": {
        "colab": {
          "base_uri": "https://localhost:8080/"
        },
        "id": "FRUiij2IzC8J",
        "outputId": "0d6de86d-c110-4285-8ba1-91cc9348177b"
      },
      "id": "FRUiij2IzC8J",
      "execution_count": null,
      "outputs": [
        {
          "output_type": "stream",
          "name": "stdout",
          "text": [
            "66\n"
          ]
        }
      ]
    },
    {
      "cell_type": "code",
      "source": [
        "# my_list[start:stop:step]"
      ],
      "metadata": {
        "id": "BciBwry51b4a"
      },
      "id": "BciBwry51b4a",
      "execution_count": null,
      "outputs": []
    },
    {
      "cell_type": "code",
      "source": [
        "my_list = [10, 20, 30, 40, 50]\n",
        "# Default stop value = len of the list.\n",
        "# in the above case, len of list = 5\n",
        "# during slicing, you always consider elements uptill (stop_value index - 1)\n",
        "# print(my_list[1:4])\n",
        "# index of last element is (len of list - 1)\n",
        "print(my_list[2:])    # stop value = len of list = 5"
      ],
      "metadata": {
        "colab": {
          "base_uri": "https://localhost:8080/"
        },
        "id": "-lamHUCk2AFR",
        "outputId": "93538089-0f2f-40c8-ae45-823603c84524"
      },
      "id": "-lamHUCk2AFR",
      "execution_count": null,
      "outputs": [
        {
          "output_type": "stream",
          "name": "stdout",
          "text": [
            "[30, 40, 50]\n"
          ]
        }
      ]
    },
    {
      "cell_type": "code",
      "source": [
        "my_list = [10, 20, 30, 40, 50]\n",
        "print(my_list[::-1])  # reverse lists!"
      ],
      "metadata": {
        "colab": {
          "base_uri": "https://localhost:8080/"
        },
        "id": "rsL9PkAk3VQ6",
        "outputId": "2e8a0eb4-6e3b-4252-f264-28ad00d23273"
      },
      "id": "rsL9PkAk3VQ6",
      "execution_count": null,
      "outputs": [
        {
          "output_type": "stream",
          "name": "stdout",
          "text": [
            "[50, 40, 30, 20, 10]\n"
          ]
        }
      ]
    },
    {
      "cell_type": "code",
      "source": [
        "marks_list  = [12,34,36,56,66,12]\n",
        "print(marks_list)\n",
        "marks_list[0] = 44\n",
        "print(marks_list)"
      ],
      "metadata": {
        "colab": {
          "base_uri": "https://localhost:8080/"
        },
        "id": "EQokqsBI4avX",
        "outputId": "b15c3897-5cdf-41b5-93a7-b0d555375c23"
      },
      "id": "EQokqsBI4avX",
      "execution_count": null,
      "outputs": [
        {
          "output_type": "stream",
          "name": "stdout",
          "text": [
            "[12, 34, 36, 56, 66, 12]\n",
            "[44, 34, 36, 56, 66, 12]\n"
          ]
        }
      ]
    },
    {
      "cell_type": "markdown",
      "source": [
        "Use cases for Python lists:\n",
        "\n",
        "1. Storing and organizing data:\n",
        "```python\n",
        "names = [\"Alice\", \"Bob\", \"Charlie\", \"Diana\"]\n",
        "temperatures = [25.5, 28.3, 27.8, 26.1]\n",
        "coordinates = [(0, 0), (1, 2), (3, 4), (5, 6)]\n",
        "```\n",
        "\n",
        "2. Iterating and processing elements:\n",
        "```python\n",
        "numbers = [1, 2, 3, 4, 5]\n",
        "for num in numbers:\n",
        "    print(num)  # Output: 1 2 3 4 5\n",
        "```\n",
        "```python\n",
        "# Using list comprehension\n",
        "squared_numbers = [num**2 for num in numbers]\n",
        "print(squared_numbers)  # Output: [1, 4, 9, 16, 25]\n",
        "```\n",
        "\n",
        "3. Managing sequential data:\n",
        "```python\n",
        "playlist = [\"song1.mp3\", \"song2.mp3\", \"song3.mp3\", \"song4.mp3\"]\n",
        "instructions = [\"Step 1: Preheat the oven\", \"Step 2: Mix the ingredients\", \"Step 3: Bake for 30 minutes\"]\n",
        "timeline = [\"Event 1\", \"Event 2\", \"Event 3\", \"Event 4\"]\n",
        "```\n",
        "\n",
        "4. Dynamic storage:\n",
        "```python\n",
        "my_list = [1, 2, 3]\n",
        "my_list.append(4)\n",
        "my_list.remove(2)\n",
        "print(my_list)  # Output: [1, 3, 4]\n",
        "```\n",
        "\n",
        "5. Sorting and searching:\n",
        "```python\n",
        "numbers = [5, 2, 8, 1, 9]\n",
        "sorted_numbers = sorted(numbers)\n",
        "print(sorted_numbers)  # Output: [1, 2, 5, 8, 9]\n",
        "```\n",
        "\n",
        "```python\n",
        "min_value = min(numbers)\n",
        "max_value = max(numbers)\n",
        "print(min_value)  # Output: 1\n",
        "print(max_value)  # Output: 9\n",
        "```\n",
        "\n",
        "```python\n",
        "index = numbers.index(8)\n",
        "print(index)  # Output: 2\n",
        "```\n",
        "\n",
        "6. Storing and manipulating tabular data:\n",
        "```python\n",
        "table = [\n",
        "    [1, 2, 3],\n",
        "    [4, 5, 6],\n",
        "    [7, 8, 9]\n",
        "]\n",
        "```\n",
        "\n",
        "```python\n",
        "# Accessing elements\n",
        "print(table[0][1])  # Output: 2\n",
        "\n",
        "# Modifying elements\n",
        "table[1][2] = 10\n",
        "print(table)  # Output: [[1, 2, 3], [4, 5, 10], [7, 8, 9]]\n",
        "```\n",
        "\n",
        "7. Implementing data structures:\n",
        "```python\n",
        "stack = []\n",
        "stack.append(1)\n",
        "stack.append(2)\n",
        "stack.append(3)\n",
        "popped_item = stack.pop()\n",
        "print(popped_item)  # Output: 3\n",
        "```\n",
        "\n",
        "```python\n",
        "queue = []\n",
        "queue.append(1)\n",
        "queue.append(2)\n",
        "queue.append(3)\n",
        "dequeued_item = queue.pop(0)\n",
        "print(dequeued_item)  # Output: 1\n",
        "```\n",
        "\n",
        "8. Collecting user input:\n",
        "```python\n",
        "user_input = []\n",
        "while True:\n",
        "    value = input(\"Enter a value (or 'q' to quit): \")\n",
        "    if value == 'q':\n",
        "        break\n",
        "    user_input.append(value)\n",
        "print(user_input)\n",
        "```\n",
        "\n",
        "These examples illustrate how Python lists can be used in various scenarios to store, process, and manipulate data effectively."
      ],
      "metadata": {
        "id": "9-RXSZtbJkBg"
      },
      "id": "9-RXSZtbJkBg"
    },
    {
      "cell_type": "code",
      "source": [
        "table = [\n",
        "    [2,3,4,16],\n",
        "    [4,5,6,12],\n",
        "    [34,546,77,89]\n",
        "    ]\n",
        "\n",
        "# 3x4 Matrix"
      ],
      "metadata": {
        "id": "DoyKtCEF68py"
      },
      "id": "DoyKtCEF68py",
      "execution_count": null,
      "outputs": []
    },
    {
      "cell_type": "code",
      "source": [
        "table[0][1] = 7\n",
        "print(table)"
      ],
      "metadata": {
        "colab": {
          "base_uri": "https://localhost:8080/"
        },
        "id": "6tW6d52e7jyZ",
        "outputId": "4d149632-a1d6-45c7-9a45-a6707f490861"
      },
      "id": "6tW6d52e7jyZ",
      "execution_count": null,
      "outputs": [
        {
          "output_type": "stream",
          "name": "stdout",
          "text": [
            "[[2, 7, 4, 16], [4, 5, 6, 12], [34, 546, 77, 89]]\n"
          ]
        }
      ]
    },
    {
      "cell_type": "code",
      "source": [
        "import numpy as np\n",
        "t = np.array(table)\n",
        "print(t)"
      ],
      "metadata": {
        "colab": {
          "base_uri": "https://localhost:8080/"
        },
        "id": "A0JPt4gi8XIw",
        "outputId": "de5bf627-9aba-4681-ca9f-9b3eaaf839b7"
      },
      "id": "A0JPt4gi8XIw",
      "execution_count": null,
      "outputs": [
        {
          "output_type": "stream",
          "name": "stdout",
          "text": [
            "[[  2   7   4  16]\n",
            " [  4   5   6  12]\n",
            " [ 34 546  77  89]]\n"
          ]
        }
      ]
    },
    {
      "cell_type": "code",
      "source": [
        "sliced_table = t[:2, :2]\n",
        "print(sliced_table)"
      ],
      "metadata": {
        "colab": {
          "base_uri": "https://localhost:8080/"
        },
        "id": "v6z5YgRK-bZI",
        "outputId": "5addf374-c9e6-4e54-90fb-4b5a09434ae6"
      },
      "id": "v6z5YgRK-bZI",
      "execution_count": null,
      "outputs": [
        {
          "output_type": "stream",
          "name": "stdout",
          "text": [
            "[[2 7]\n",
            " [4 5]]\n"
          ]
        }
      ]
    },
    {
      "cell_type": "code",
      "source": [
        "# Homework: Get the same output for lists using for loops"
      ],
      "metadata": {
        "id": "ujHJ0ILDAKYo"
      },
      "id": "ujHJ0ILDAKYo",
      "execution_count": null,
      "outputs": []
    },
    {
      "cell_type": "markdown",
      "metadata": {
        "id": "pFRdHJiRJcEC"
      },
      "source": [
        "# Tuples\n",
        "\n",
        "Introduction to tuples\n",
        "\n",
        "- Tuples are ordered and immutable collections of items.\n",
        "\n",
        "Creating and accessing tuples\n",
        "\n",
        "```python\n",
        "my_tuple = (1, 2, 3, 4, 5)\n",
        "```\n",
        "\n",
        "Immutable nature of tuples\n",
        "\n",
        "Tuple unpacking and packing\n",
        "\n",
        "```python\n",
        "a, b, c = my_tuple\n",
        "```"
      ],
      "id": "pFRdHJiRJcEC"
    },
    {
      "cell_type": "markdown",
      "source": [
        "Certainly! Let's explore the syntax of Python tuples and their use cases.\n",
        "\n",
        "1. Creating a tuple:\n",
        "   Tuples are created by enclosing comma-separated elements within parentheses (()). Elements can be of any data type, and a tuple can contain elements of different types. Here's an example:\n",
        "   ```python\n",
        "   my_tuple = (1, 2, \"three\", True)\n",
        "   ```\n",
        "\n",
        "2. Accessing elements:\n",
        "   Elements in a tuple are accessed using their indices, similar to lists. You can access an element by specifying its index within square brackets after the tuple name. For example:\n",
        "   ```python\n",
        "   my_tuple = (10, 20, 30, 40, 50)\n",
        "   print(my_tuple[0])  # Output: 10\n",
        "   print(my_tuple[2])  # Output: 30\n",
        "   ```\n",
        "\n",
        "3. Tuple unpacking:\n",
        "   Tuple unpacking allows you to assign the values of a tuple to multiple variables in a single line. The number of variables must match the number of elements in the tuple. For example:\n",
        "   ```python\n",
        "   my_tuple = (10, 20, 30)\n",
        "   a, b, c = my_tuple\n",
        "   print(a)  # Output: 10\n",
        "   print(b)  # Output: 20\n",
        "   print(c)  # Output: 30\n",
        "   ```\n",
        "\n",
        "4. Immutable nature:\n",
        "   Tuples are immutable, which means you cannot modify individual elements or the structure of the tuple after it's created. However, you can create a new tuple by concatenating or slicing existing tuples. For example:\n",
        "   ```python\n",
        "   my_tuple = (1, 2, 3)\n",
        "   # The following line will raise an error\n",
        "   my_tuple[0] = 10\n",
        "   ```\n",
        "\n",
        "5. Use cases for tuples:\n",
        "   Tuples are commonly used in the following scenarios:\n",
        "   - **Data integrity**: Tuples can be used to represent a collection of related values that should not be modified. For example, coordinates (x, y) of a point on a graph.\n",
        "   - **Returning multiple values**: Functions can return multiple values as a tuple, which can then be unpacked by the caller. This allows functions to conveniently return multiple pieces of data. For example:\n",
        "     ```python\n",
        "     def get_student_details(student_id):\n",
        "         # Fetch details from database\n",
        "         # ...\n",
        "         return name, age, grade\n",
        "\n",
        "     student_name, student_age, student_grade = get_student_details(123)\n",
        "     ```\n",
        "   - **Dictionary keys**: Tuples can be used as keys in dictionaries since they are immutable. This is useful when you want to use multiple values as a key, such as coordinates or date-time pairs.\n",
        "   - **Efficient swapping**: Tuples can be used to swap the values of variables without requiring an intermediate variable. For example:\n",
        "     ```python\n",
        "     a = 10\n",
        "     b = 20\n",
        "     a, b = b, a\n",
        "     ```\n",
        "\n",
        "Tuples provide a lightweight and efficient way to store and pass around multiple values. They are often used in situations where immutability is desired or where the order of elements is important. However, unlike lists, tuples do not offer methods for adding, removing, or modifying elements."
      ],
      "metadata": {
        "id": "5OaKCPaoI8mB"
      },
      "id": "5OaKCPaoI8mB"
    },
    {
      "cell_type": "code",
      "source": [
        "my_tuple = (1, 2, 3)\n",
        "# The following line will raise an error\n",
        "my_tuple[0] = 10"
      ],
      "metadata": {
        "colab": {
          "base_uri": "https://localhost:8080/",
          "height": 205
        },
        "id": "x1VTOZlcA0TQ",
        "outputId": "e97fd74f-815e-4f40-95c4-64f6c5c1b317"
      },
      "id": "x1VTOZlcA0TQ",
      "execution_count": null,
      "outputs": [
        {
          "output_type": "error",
          "ename": "TypeError",
          "evalue": "ignored",
          "traceback": [
            "\u001b[0;31m---------------------------------------------------------------------------\u001b[0m",
            "\u001b[0;31mTypeError\u001b[0m                                 Traceback (most recent call last)",
            "\u001b[0;32m<ipython-input-22-98583b8f6a74>\u001b[0m in \u001b[0;36m<cell line: 3>\u001b[0;34m()\u001b[0m\n\u001b[1;32m      1\u001b[0m \u001b[0mmy_tuple\u001b[0m \u001b[0;34m=\u001b[0m \u001b[0;34m(\u001b[0m\u001b[0;36m1\u001b[0m\u001b[0;34m,\u001b[0m \u001b[0;36m2\u001b[0m\u001b[0;34m,\u001b[0m \u001b[0;36m3\u001b[0m\u001b[0;34m)\u001b[0m\u001b[0;34m\u001b[0m\u001b[0;34m\u001b[0m\u001b[0m\n\u001b[1;32m      2\u001b[0m \u001b[0;31m# The following line will raise an error\u001b[0m\u001b[0;34m\u001b[0m\u001b[0;34m\u001b[0m\u001b[0m\n\u001b[0;32m----> 3\u001b[0;31m \u001b[0mmy_tuple\u001b[0m\u001b[0;34m[\u001b[0m\u001b[0;36m0\u001b[0m\u001b[0;34m]\u001b[0m \u001b[0;34m=\u001b[0m \u001b[0;36m10\u001b[0m\u001b[0;34m\u001b[0m\u001b[0;34m\u001b[0m\u001b[0m\n\u001b[0m",
            "\u001b[0;31mTypeError\u001b[0m: 'tuple' object does not support item assignment"
          ]
        }
      ]
    },
    {
      "cell_type": "code",
      "source": [
        "# Home work 2:\n",
        "\n",
        "a = 10\n",
        "b = 20\n",
        "a, b = b, a # don't use this line and still achieve the same results"
      ],
      "metadata": {
        "id": "vCYPt4tNBWZP"
      },
      "id": "vCYPt4tNBWZP",
      "execution_count": null,
      "outputs": []
    },
    {
      "cell_type": "code",
      "source": [
        "a = 10\n",
        "b = 20\n",
        "c = a #extra line\n",
        "a = b\n",
        "b = c"
      ],
      "metadata": {
        "id": "t68CgvVeEmAR"
      },
      "id": "t68CgvVeEmAR",
      "execution_count": null,
      "outputs": []
    },
    {
      "cell_type": "code",
      "source": [
        "print(a)\n",
        "print(b)"
      ],
      "metadata": {
        "colab": {
          "base_uri": "https://localhost:8080/"
        },
        "id": "5n8O10nQFLAp",
        "outputId": "0b95a303-a35b-4f54-b9cc-9176e0506c69"
      },
      "id": "5n8O10nQFLAp",
      "execution_count": null,
      "outputs": [
        {
          "output_type": "stream",
          "name": "stdout",
          "text": [
            "20\n",
            "10\n"
          ]
        }
      ]
    },
    {
      "cell_type": "markdown",
      "metadata": {
        "id": "S8geDAoZJcED"
      },
      "source": [
        "# Strings\n",
        "\n",
        "Introduction to strings\n",
        "\n",
        "- Strings are sequences of characters.\n",
        "\n",
        "Creating and accessing strings\n",
        "\n",
        "```python\n",
        "my_string = \"Hello, World!\"\n",
        "```\n",
        "\n",
        "String manipulation (concatenation, slicing, and methods)\n",
        "\n",
        "```python\n",
        "new_string = my_string + \" Welcome\"\n",
        "```\n",
        "\n",
        "Common string methods"
      ],
      "id": "S8geDAoZJcED"
    },
    {
      "cell_type": "markdown",
      "source": [
        " Let's explore the syntax of Python strings and their use cases.\n",
        "\n",
        "1. Creating a string:\n",
        "   Strings are created by enclosing characters in either single quotes ('') or double quotes (\"\"). For example:\n",
        "   ```python\n",
        "   my_string = 'Hello, World!'\n",
        "   ```\n",
        "\n",
        "2. Accessing characters:\n",
        "   Individual characters within a string can be accessed using their indices. Python uses 0-based indexing, where the first character has an index of 0. You can access a character by specifying its index within square brackets after the string name. For example:\n",
        "   ```python\n",
        "   my_string = 'Hello'\n",
        "   print(my_string[0])  # Output: 'H'\n",
        "   print(my_string[3])  # Output: 'l'\n",
        "   ```\n",
        "\n",
        "3. String concatenation:\n",
        "   You can concatenate two or more strings using the `+` operator. This creates a new string that contains the concatenated characters. For example:\n",
        "   ```python\n",
        "   string1 = 'Hello'\n",
        "   string2 = 'World'\n",
        "   concatenated_string = string1 + ' ' + string2\n",
        "   print(concatenated_string)  # Output: 'Hello World'\n",
        "   ```\n",
        "\n",
        "4. String length:\n",
        "   You can determine the length of a string, which is the number of characters it contains, using the `len()` function. For example:\n",
        "   ```python\n",
        "   my_string = 'Hello, World!'\n",
        "   print(len(my_string))  # Output: 13\n",
        "   ```\n",
        "\n",
        "5. String slicing:\n",
        "   You can extract a portion of a string using slice notation. The slice is specified as `start:stop:step`, where `start` is the starting index (inclusive), `stop` is the ending index (exclusive), and `step` is the stride size. If any of these values are omitted, they default to the following:\n",
        "   - `start` defaults to 0\n",
        "   - `stop` defaults to the length of the string\n",
        "   - `step` defaults to 1\n",
        "   Here are some examples:\n",
        "   ```python\n",
        "   my_string = 'Hello, World!'\n",
        "   print(my_string[0:5])    # Output: 'Hello'\n",
        "   print(my_string[:5])     # Output: 'Hello'\n",
        "   print(my_string[7:])     # Output: 'World!'\n",
        "   print(my_string[::2])    # Output: 'Hlo ol!'\n",
        "   print(my_string[::-1])   # Output: '!dlroW ,olleH'\n",
        "   ```\n",
        "\n",
        "6. String methods:\n",
        "   Python provides various built-in methods to manipulate and transform strings. Some commonly used methods include:\n",
        "   - `upper()`: Converts the string to uppercase.\n",
        "   - `lower()`: Converts the string to lowercase.\n",
        "   - `split()`: Splits the string into a list of substrings based on a specified delimiter.\n",
        "   - `strip()`: Removes leading and trailing whitespace from the string.\n",
        "   - `replace()`: Replaces occurrences of a specified substring with another substring.\n",
        "   - `find()`: Searches for a specified substring within the string and returns its index.\n",
        "   - `startswith()`, `endswith()`: Checks if the string starts or ends with a specified substring.\n",
        "   Here's an example showcasing some of these methods:\n",
        "   ```python\n",
        "   my_string = '   Hello, World!   '\n",
        "   print(my_string.upper())              # Output: '   HELLO, WORLD!   '\n",
        "   print(my_string.strip())              # Output: 'Hello, World!'\n",
        "   print(my_string.split(','))           # Output: ['   Hello', ' World!   ']\n",
        "   print(my_string.replace('World', 'Python'))   # Output: '   Hello, Python!   '\n",
        "   print(my_string.find('World'))         # Output: 9\n",
        "   print(my_string.startswith('Hello'))   # Output: True\n",
        "   ```\n",
        "\n",
        "7. Use cases for strings:\n",
        "   Strings are widely used in various scenarios, including:\n",
        "   - **Text processing**: Strings are used for manipulating and processing textual data, such as parsing input, extracting substrings, or performing text search and replace operations.\n",
        "   - **Data representation**: Strings are used to represent textual or alphanumeric data, such as names, addresses, or identifiers.\n",
        "   - **Formatted output**: Strings can be used to format output by combining variables, constants, and text into a cohesive message or report.\n",
        "   - **File handling**: Strings are used to represent file paths, filenames, or contents when reading from or writing to files.\n",
        "   - **User input**: Strings are used to capture and process user input, such as collecting text responses or validating input patterns.\n",
        "   - **API communication**: Strings are used to represent requests, responses, or data payloads when interacting with APIs or web services.\n",
        "\n",
        "These examples demonstrate the versatility and wide-ranging use cases of strings in Python. Strings provide powerful capabilities for working with textual data, manipulating and transforming it to suit various requirements."
      ],
      "metadata": {
        "id": "zPEr_S8lLDxE"
      },
      "id": "zPEr_S8lLDxE"
    },
    {
      "cell_type": "code",
      "source": [
        "my_string = '   Hello, World!   '\n",
        "# print(my_string.upper())              # Output: '   HELLO, WORLD!   '\n",
        "# print(my_string.strip())              # Output: 'Hello, World!'\n",
        "# print(my_string.split(','))           # Output: ['   Hello', ' World!   ']\n",
        "# print(my_string.replace('World', 'Python'))   # Output: '   Hello, Python!   '\n",
        "print(my_string.find('World'))         # Output: 10\n",
        "# print(my_string.startswith('Hello'))   # Output: True"
      ],
      "metadata": {
        "colab": {
          "base_uri": "https://localhost:8080/"
        },
        "id": "FkI6A2F6D4f9",
        "outputId": "db6f5616-16f9-48ea-8c89-20318f17ebc6"
      },
      "id": "FkI6A2F6D4f9",
      "execution_count": null,
      "outputs": [
        {
          "output_type": "stream",
          "name": "stdout",
          "text": [
            "10\n"
          ]
        }
      ]
    },
    {
      "cell_type": "markdown",
      "metadata": {
        "id": "R468hg4hJcED"
      },
      "source": [
        "# Sets\n",
        "\n",
        "Introduction to sets\n",
        "\n",
        "- Sets are unordered and contain unique elements.\n",
        "\n",
        "Creating and accessing sets\n",
        "\n",
        "```python\n",
        "my_set = {1, 2, 3, 4, 5}\n",
        "```\n",
        "\n",
        "Set operations (union, intersection, difference, and symmetric difference)\n",
        "\n",
        "```python\n",
        "set1 = {1, 2, 3}\n",
        "set2 = {3, 4, 5}\n",
        "union_set = set1.union(set2)\n",
        "intersection_set = set1.intersection(set2)\n",
        "difference_set = set1.difference(set2)\n",
        "symmetric_difference_set = set1.symmetric_difference(set2)\n",
        "```\n",
        "\n",
        "Set methods and membership testing"
      ],
      "id": "R468hg4hJcED"
    },
    {
      "cell_type": "markdown",
      "source": [
        "Let's explore the syntax of Python sets and their use cases.\n",
        "\n",
        "1. Creating a set:\n",
        "   Sets are created by enclosing comma-separated elements within curly braces ({}) or by using the `set()` constructor. For example:\n",
        "   ```python\n",
        "   my_set = {1, 2, 3, 4, 5}\n",
        "   ```\n",
        "\n",
        "2. Unique elements:\n",
        "   Sets contain only unique elements. If you try to add a duplicate element to a set, it will be ignored. This property of sets makes them useful for eliminating duplicate values from a collection. For example:\n",
        "   ```python\n",
        "   my_set = {1, 2, 2, 3, 4, 4, 5}\n",
        "   print(my_set)  # Output: {1, 2, 3, 4, 5}\n",
        "   ```\n",
        "\n",
        "3. Modifying a set:\n",
        "   Sets are mutable, meaning you can add or remove elements from a set after it is created. You can add elements to a set using the `add()` method and remove elements using the `remove()` or `discard()` methods. For example:\n",
        "   ```python\n",
        "   my_set = {1, 2, 3}\n",
        "   my_set.add(4)\n",
        "   my_set.remove(2)\n",
        "   print(my_set)  # Output: {1, 3, 4}\n",
        "   ```\n",
        "\n",
        "4. Set operations:\n",
        "   Sets support various mathematical set operations such as union, intersection, difference, and symmetric difference. These operations can be performed using operators (`|`, `&`, `-`, `^`) or corresponding methods (`union()`, `intersection()`, `difference()`, `symmetric_difference()`). For example:\n",
        "   ```python\n",
        "   set1 = {1, 2, 3}\n",
        "   set2 = {3, 4, 5}\n",
        "\n",
        "   union_set = set1 | set2\n",
        "   intersection_set = set1 & set2\n",
        "   difference_set = set1 - set2\n",
        "   symmetric_difference_set = set1 ^ set2\n",
        "\n",
        "   print(union_set)                  # Output: {1, 2, 3, 4, 5}\n",
        "   print(intersection_set)           # Output: {3}\n",
        "   print(difference_set)             # Output: {1, 2}\n",
        "   print(symmetric_difference_set)   # Output: {1, 2, 4, 5}\n",
        "   ```\n",
        "\n",
        "5. Set membership and iteration:\n",
        "   You can check if an element exists in a set using the `in` operator. Sets are also iterable, meaning you can loop over their elements using a `for` loop. For example:\n",
        "   ```python\n",
        "   my_set = {1, 2, 3}\n",
        "   print(2 in my_set)  # Output: True\n",
        "\n",
        "   for element in my_set:\n",
        "       print(element)\n",
        "   ```\n",
        "\n",
        "6. Use cases for sets:\n",
        "   Sets are useful in the following scenarios:\n",
        "   - **Eliminating duplicates**: Sets can be used to remove duplicate elements from a list or sequence by converting it to a set and then back to a list.\n",
        "   - **Membership testing**: Sets provide fast membership testing, allowing you to check if an element exists in a collection without iterating over it.\n",
        "   - **Mathematical operations**: Sets are suitable for performing operations such as union, intersection, and difference between collections of elements.\n",
        "   - **Filtering unique values**: Sets can be used to identify unique or distinct values from a larger dataset.\n",
        "   - **Removing unwanted items**: Sets can be used to filter out unwanted items from a collection based on specific criteria.\n",
        "   - **Checking common elements**: Sets can be used to find common elements between multiple collections.\n",
        "\n",
        "These examples demonstrate the usefulness of sets in Python, particularly in scenarios where you need to work with unique elements, perform set operations, or efficiently check membership within a collection."
      ],
      "metadata": {
        "id": "IcSbLczmL4MB"
      },
      "id": "IcSbLczmL4MB"
    },
    {
      "cell_type": "markdown",
      "source": [
        "Here are code snippets showcasing the use cases of sets in Python:\n",
        "\n",
        "1. Eliminating duplicates:\n",
        "```python\n",
        "my_list = [1, 2, 2, 3, 4, 4, 5]\n",
        "unique_list = list(set(my_list))\n",
        "print(unique_list)  # Output: [1, 2, 3, 4, 5]\n",
        "```\n",
        "\n",
        "2. Membership testing:\n",
        "```python\n",
        "my_set = {1, 2, 3, 4, 5}\n",
        "print(2 in my_set)  # Output: True\n",
        "print(6 in my_set)  # Output: False\n",
        "```\n",
        "\n",
        "3. Mathematical operations:\n",
        "```python\n",
        "set1 = {1, 2, 3}\n",
        "set2 = {3, 4, 5}\n",
        "union_set = set1.union(set2)\n",
        "intersection_set = set1.intersection(set2)\n",
        "difference_set = set1.difference(set2)\n",
        "symmetric_difference_set = set1.symmetric_difference(set2)\n",
        "print(union_set)                  # Output: {1, 2, 3, 4, 5}\n",
        "print(intersection_set)           # Output: {3}\n",
        "print(difference_set)             # Output: {1, 2}\n",
        "print(symmetric_difference_set)   # Output: {1, 2, 4, 5}\n",
        "```\n",
        "\n",
        "4. Filtering unique values:\n",
        "```python\n",
        "data = [1, 2, 3, 4, 5, 1, 2, 3, 4, 5]\n",
        "unique_values = set(data)\n",
        "print(unique_values)  # Output: {1, 2, 3, 4, 5}\n",
        "```\n",
        "\n",
        "5. Removing unwanted items:\n",
        "```python\n",
        "data = {1, 2, 3, 4, 5}\n",
        "unwanted_items = {3, 4}\n",
        "filtered_data = data - unwanted_items\n",
        "print(filtered_data)  # Output: {1, 2, 5}\n",
        "```\n",
        "\n",
        "6. Checking common elements:\n",
        "```python\n",
        "set1 = {1, 2, 3, 4, 5}\n",
        "set2 = {4, 5, 6, 7, 8}\n",
        "common_elements = set1.intersection(set2)\n",
        "print(common_elements)  # Output: {4, 5}\n",
        "```\n",
        "\n",
        "These code snippets demonstrate how sets can be used to eliminate duplicates, check membership, perform mathematical operations, filter values, remove unwanted items, and find common elements. Sets provide powerful functionalities for working with unique collections of data and performing set operations efficiently."
      ],
      "metadata": {
        "id": "gPLGQNYVMuZ-"
      },
      "id": "gPLGQNYVMuZ-"
    },
    {
      "cell_type": "markdown",
      "metadata": {
        "id": "BvcJ6aBKJcED"
      },
      "source": [
        "# Dictionaries\n",
        "\n",
        "Introduction to dictionaries\n",
        "\n",
        "- Dictionaries are key-value pairs, where keys are unique and associated with values.\n",
        "\n",
        "Creating and accessing dictionaries\n",
        "\n",
        "```python\n",
        "my_dict = {\"name\": \"Alice\", \"age\": 25, \"country\": \"USA\"}\n",
        "```\n",
        "\n",
        "Modifying dictionaries (adding, updating, and deleting key-value pairs)\n",
        "\n",
        "```python\n",
        "my_dict[\"city\"] = \"New York\"\n",
        "my_dict[\"age\"] = 26\n",
        "del my_dict[\"country\"]\n",
        "```\n",
        "\n",
        "Common dictionary methods"
      ],
      "id": "BvcJ6aBKJcED"
    },
    {
      "cell_type": "markdown",
      "source": [
        "Let's explore the syntax of Python dictionaries and their use cases.\n",
        "\n",
        "1. Creating a dictionary:\n",
        "   Dictionaries are created by enclosing key-value pairs within curly braces ({}) or by using the `dict()` constructor. Each key-value pair is separated by a colon (:). For example:\n",
        "   ```python\n",
        "   my_dict = {\"name\": \"John\", \"age\": 25, \"city\": \"New York\"}\n",
        "   ```\n",
        "\n",
        "2. Accessing values:\n",
        "   Values in a dictionary are accessed by providing the corresponding key within square brackets after the dictionary name. If the key exists, the associated value is returned. For example:\n",
        "   ```python\n",
        "   my_dict = {\"name\": \"John\", \"age\": 25, \"city\": \"New York\"}\n",
        "   print(my_dict[\"name\"])  # Output: \"John\"\n",
        "   print(my_dict[\"age\"])   # Output: 25\n",
        "   ```\n",
        "\n",
        "3. Modifying values:\n",
        "   You can modify the value of a specific key in a dictionary by assigning a new value to that key. For example:\n",
        "   ```python\n",
        "   my_dict = {\"name\": \"John\", \"age\": 25, \"city\": \"New York\"}\n",
        "   my_dict[\"age\"] = 30\n",
        "   print(my_dict[\"age\"])  # Output: 30\n",
        "   ```\n",
        "\n",
        "4. Adding new key-value pairs:\n",
        "   You can add new key-value pairs to a dictionary by assigning a value to a new key. For example:\n",
        "   ```python\n",
        "   my_dict = {\"name\": \"John\", \"age\": 25}\n",
        "   my_dict[\"city\"] = \"New York\"\n",
        "   print(my_dict)  # Output: {\"name\": \"John\", \"age\": 25, \"city\": \"New York\"}\n",
        "   ```\n",
        "\n",
        "5. Dictionary methods:\n",
        "   Python dictionaries offer several built-in methods for manipulating and working with dictionaries. Some commonly used methods include:\n",
        "   - `keys()`: Returns a list of all keys in the dictionary.\n",
        "   - `values()`: Returns a list of all values in the dictionary.\n",
        "   - `items()`: Returns a list of all key-value pairs in the dictionary as tuples.\n",
        "   - `get()`: Returns the value associated with a given key, or a default value if the key doesn't exist.\n",
        "   - `pop()`: Removes and returns the value associated with a given key.\n",
        "   - `update()`: Updates the dictionary with key-value pairs from another dictionary or an iterable of key-value pairs.\n",
        "   Here's an example showcasing some of these methods:\n",
        "   ```python\n",
        "   my_dict = {\"name\": \"John\", \"age\": 25, \"city\": \"New York\"}\n",
        "   print(my_dict.keys())    # Output: [\"name\", \"age\", \"city\"]\n",
        "   print(my_dict.values())  # Output: [\"John\", 25, \"New York\"]\n",
        "   print(my_dict.items())   # Output: [(\"name\", \"John\"), (\"age\", 25), (\"city\", \"New York\")]\n",
        "\n",
        "   print(my_dict.get(\"name\"))  # Output: \"John\"\n",
        "   print(my_dict.get(\"country\"))  # Output: None (key doesn't exist)\n",
        "\n",
        "   my_dict.pop(\"age\")\n",
        "   print(my_dict)  # Output: {\"name\": \"John\", \"city\": \"New York\"}\n",
        "\n",
        "   my_dict.update({\"country\": \"USA\", \"age\": 30})\n",
        "   print(my_dict)  # Output: {\"name\": \"John\", \"city\": \"New York\", \"country\": \"USA\", \"age\": 30}\n",
        "   ```\n",
        "\n",
        "6. Use cases for dictionaries:\n",
        "   Dictionaries are widely used in the following scenarios:\n",
        "   - **Data representation**: Dictionaries are used to represent data in a key-value format, where each value can be accessed using its associated key.\n",
        "   - **Mapping relationships**: Dictionaries are useful for mapping relationships between entities, such as mapping student names to their corresponding grades or mapping words to their definitions.\n",
        "   - **Configuration settings**: Dictionaries can be used to store configuration settings, allowing you to easily access and modify various parameters of your program or application.\n",
        "   - **Counting occurrences**: Dictionaries are suitable for counting occurrences of elements or values in a dataset, acting as a frequency counter.\n",
        "   - **Caching or memoization**: Dictionaries can be used as a cache to store previously computed values, avoiding redundant computations and improving performance.\n",
        "   - **JSON-like structures**: Dictionaries provide a way to represent structured data in a JSON-like format, making them useful for data interchange with APIs or storing complex data structures.\n",
        "   - **Grouping data**: Dictionaries can be used to group related data together, where the keys represent categories or groups, and the values represent the items within those categories.\n",
        "\n",
        "These examples demonstrate the versatility and usefulness of dictionaries in Python. Dictionaries provide a powerful and efficient way to work with key-value pairs, enabling you to represent, manipulate, and organize data in various contexts."
      ],
      "metadata": {
        "id": "CJtYa2RDPkcL"
      },
      "id": "CJtYa2RDPkcL"
    },
    {
      "cell_type": "markdown",
      "source": [
        "Here are code snippets showcasing the use cases of dictionaries in Python:\n",
        "\n",
        "1. Data representation:\n",
        "```python\n",
        "student = {\"name\": \"John\", \"age\": 25, \"grade\": \"A\"}\n",
        "print(student[\"name\"])  # Output: \"John\"\n",
        "print(student[\"age\"])   # Output: 25\n",
        "```\n",
        "\n",
        "2. Mapping relationships:\n",
        "```python\n",
        "grades = {\"John\": \"A\", \"Alice\": \"B\", \"Bob\": \"C\"}\n",
        "print(grades[\"John\"])  # Output: \"A\"\n",
        "```\n",
        "\n",
        "3. Configuration settings:\n",
        "```python\n",
        "config = {\n",
        "    \"debug\": True,\n",
        "    \"port\": 8000,\n",
        "    \"max_users\": 1000\n",
        "}\n",
        "print(config[\"port\"])  # Output: 8000\n",
        "```\n",
        "\n",
        "4. Counting occurrences:\n",
        "```python\n",
        "data = [1, 2, 2, 3, 4, 4, 4, 5]\n",
        "count = {}\n",
        "for item in data:\n",
        "    count[item] = count.get(item, 0) + 1\n",
        "print(count)  # Output: {1: 1, 2: 2, 3: 1, 4: 3, 5: 1}\n",
        "```\n",
        "\n",
        "\n",
        "6. JSON-like structures:\n",
        "```python\n",
        "import json\n",
        "person = {\n",
        "    \"name\": \"John\",\n",
        "    \"age\": 25,\n",
        "    \"address\": {\n",
        "        \"street\": \"123 Main St\",\n",
        "        \"city\": \"New York\"\n",
        "    }\n",
        "}\n",
        "# Converting dictionary to JSON string\n",
        "json_data = json.dumps(person)\n",
        "print(json_data)\n",
        "# Converting JSON string to dictionary\n",
        "person_dict = json.loads(json_data)\n",
        "print(person_dict[\"name\"])  # Output: \"John\"\n",
        "```\n",
        "\n",
        "7. Grouping data:\n",
        "```python\n",
        "data = [\n",
        "    {\"name\": \"Alice\", \"age\": 25},\n",
        "    {\"name\": \"Bob\", \"age\": 30},\n",
        "    {\"name\": \"Charlie\", \"age\": 28}\n",
        "]\n",
        "grouped_data = {}\n",
        "for item in data:\n",
        "    age = item[\"age\"]\n",
        "    if age not in grouped_data:\n",
        "        grouped_data[age] = []\n",
        "    grouped_data[age].append(item)\n",
        "print(grouped_data)\n",
        "```\n",
        "\n",
        "These code snippets demonstrate the use cases of dictionaries in Python, including data representation, mapping relationships, configuration settings, counting occurrences, caching or memoization, JSON-like structures, and grouping data. Dictionaries provide a flexible and efficient way to work with key-value pairs, enabling you to store, retrieve, and manipulate data in various ways."
      ],
      "metadata": {
        "id": "0IyS1B1WPnD9"
      },
      "id": "0IyS1B1WPnD9"
    },
    {
      "cell_type": "code",
      "source": [],
      "metadata": {
        "id": "l45kqSH1PjzH"
      },
      "id": "l45kqSH1PjzH",
      "execution_count": null,
      "outputs": []
    },
    {
      "cell_type": "markdown",
      "metadata": {
        "id": "Mx_d_YvXJcEE"
      },
      "source": [
        "# Conversion between Data Structures\n",
        "\n",
        "Converting between lists, tuples, sets, and dictionaries\n",
        "\n",
        "Useful conversion techniques"
      ],
      "id": "Mx_d_YvXJcEE"
    },
    {
      "cell_type": "markdown",
      "source": [
        "Let's explore how to convert between lists, tuples, sets, and dictionaries, along with some useful conversion techniques.\n",
        "\n",
        "1. Converting between lists and tuples:\n",
        "   - To convert a list to a tuple, you can use the `tuple()` constructor:\n",
        "     ```python\n",
        "     my_list = [1, 2, 3, 4, 5]\n",
        "     my_tuple = tuple(my_list)\n",
        "     print(my_tuple)  # Output: (1, 2, 3, 4, 5)\n",
        "     ```\n",
        "   - To convert a tuple to a list, you can use the `list()` constructor:\n",
        "     ```python\n",
        "     my_tuple = (1, 2, 3, 4, 5)\n",
        "     my_list = list(my_tuple)\n",
        "     print(my_list)  # Output: [1, 2, 3, 4, 5]\n",
        "     ```\n",
        "\n",
        "2. Converting between lists and sets:\n",
        "   - To convert a list to a set, you can use the `set()` constructor:\n",
        "     ```python\n",
        "     my_list = [1, 2, 2, 3, 4, 4, 5]\n",
        "     my_set = set(my_list)\n",
        "     print(my_set)  # Output: {1, 2, 3, 4, 5}\n",
        "     ```\n",
        "   - To convert a set to a list, you can use the `list()` constructor:\n",
        "     ```python\n",
        "     my_set = {1, 2, 3, 4, 5}\n",
        "     my_list = list(my_set)\n",
        "     print(my_list)  # Output: [1, 2, 3, 4, 5]\n",
        "     ```\n",
        "\n",
        "3. Converting between lists and dictionaries:\n",
        "   - To convert a list of key-value pairs to a dictionary, you can use the `dict()` constructor and provide the list as input:\n",
        "     ```python\n",
        "     my_list = [(\"name\", \"John\"), (\"age\", 25), (\"city\", \"New York\")]\n",
        "     my_dict = dict(my_list)\n",
        "     print(my_dict)  # Output: {\"name\": \"John\", \"age\": 25, \"city\": \"New York\"}\n",
        "     ```\n",
        "   - To convert a dictionary to a list of key-value pairs, you can use the `items()` method:\n",
        "     ```python\n",
        "     my_dict = {\"name\": \"John\", \"age\": 25, \"city\": \"New York\"}\n",
        "     my_list = list(my_dict.items())\n",
        "     print(my_list)  # Output: [(\"name\", \"John\"), (\"age\", 25), (\"city\", \"New York\")]\n",
        "     ```\n",
        "\n",
        "4. Converting between tuples and sets:\n",
        "   - To convert a tuple to a set, you can use the `set()` constructor:\n",
        "     ```python\n",
        "     my_tuple = (1, 2, 3, 4, 5)\n",
        "     my_set = set(my_tuple)\n",
        "     print(my_set)  # Output: {1, 2, 3, 4, 5}\n",
        "     ```\n",
        "   - To convert a set to a tuple, you can use the `tuple()` constructor:\n",
        "     ```python\n",
        "     my_set = {1, 2, 3, 4, 5}\n",
        "     my_tuple = tuple(my_set)\n",
        "     print(my_tuple)  # Output: (1, 2, 3, 4, 5)\n",
        "     ```\n",
        "\n",
        "Useful conversion techniques:\n",
        "\n",
        "- Extracting unique elements from a list:\n",
        "  ```python\n",
        "  my_list = [1, 2, 2, 3, 4, 4, 5]\n",
        "  unique_list = list(set(my_list))\n",
        "  print(unique_list)  # Output: [1, 2, 3, 4, 5]\n",
        "  ```\n",
        "\n",
        "- Converting a list of tuples to a dictionary:\n",
        "  ```python\n",
        "  my_list = [(\"name\", \"John\"), (\"age\", 25), (\"city\", \"New York\")]\n",
        "  my_dict = dict(my_list)\n",
        "  print(my_dict)  # Output: {\"name\": \"John\", \"age\": 25, \"city\": \"New York\"}\n",
        "  ```\n",
        "\n",
        "- Combining lists into a dictionary using zip:\n",
        "  ```python\n",
        "  keys = [\"name\", \"age\", \"city\"]\n",
        "  values = [\"John\", 25, \"New York\"]\n",
        "  my_dict = dict(zip(keys, values))\n",
        "  print(my_dict)  # Output: {\"name\": \"John\", \"age\": 25, \"city\": \"New York\"}\n",
        "  ```\n",
        "\n",
        "- Converting a dictionary to a list of keys or values:\n",
        "  ```python\n",
        "  my_dict = {\"name\": \"John\", \"age\": 25, \"city\": \"New York\"}\n",
        "  keys_list = list(my_dict.keys())\n",
        "  values_list = list(my_dict.values())\n",
        "  print(keys_list)    # Output: [\"name\", \"age\", \"city\"]\n",
        "  print(values_list)  # Output: [\"John\", 25, \"New York\"]\n",
        "  ```\n",
        "\n",
        "These examples demonstrate various techniques to convert between lists, tuples, sets, and dictionaries in Python. Understanding these conversion methods can be useful when working with different data structures and performing data transformations."
      ],
      "metadata": {
        "id": "3cD8cFWTQsWW"
      },
      "id": "3cD8cFWTQsWW"
    }
  ],
  "metadata": {
    "colab": {
      "provenance": [],
      "include_colab_link": true
    },
    "language_info": {
      "name": "python"
    },
    "kernelspec": {
      "name": "python3",
      "display_name": "Python 3"
    }
  },
  "nbformat": 4,
  "nbformat_minor": 5
}