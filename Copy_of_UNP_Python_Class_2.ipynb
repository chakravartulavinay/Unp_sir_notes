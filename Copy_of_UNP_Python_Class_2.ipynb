{
  "nbformat": 4,
  "nbformat_minor": 0,
  "metadata": {
    "colab": {
      "provenance": [],
      "include_colab_link": true
    },
    "kernelspec": {
      "name": "python3",
      "display_name": "Python 3"
    },
    "language_info": {
      "name": "python"
    }
  },
  "cells": [
    {
      "cell_type": "markdown",
      "metadata": {
        "id": "view-in-github",
        "colab_type": "text"
      },
      "source": [
        "<a href=\"https://colab.research.google.com/github/chakravartulavinay/Unp_sir_notes/blob/main/Copy_of_UNP_Python_Class_2.ipynb\" target=\"_parent\"><img src=\"https://colab.research.google.com/assets/colab-badge.svg\" alt=\"Open In Colab\"/></a>"
      ]
    },
    {
      "cell_type": "markdown",
      "source": [
        "# Control Flow - If-Else Statements\n",
        "\n",
        "- Control flow allows us to make decisions and execute different blocks of code based on conditions.\n",
        "- If-else statements are used to perform actions based on whether a condition is true or false.\n",
        "\n",
        "**Code snippet example:**\n",
        "```python\n",
        "# If-else statement\n",
        "age = 25\n",
        "if age >= 18:\n",
        "    print(\"You are an adult.\")\n",
        "else:\n",
        "    print(\"You are not an adult.\")\n"
      ],
      "metadata": {
        "id": "dglAeVAM3Gv8"
      }
    },
    {
      "cell_type": "code",
      "source": [],
      "metadata": {
        "id": "4xENd0aixBJY"
      },
      "execution_count": null,
      "outputs": []
    },
    {
      "cell_type": "code",
      "source": [
        "age = 20\n",
        "check = (age>=18"
      ],
      "metadata": {
        "id": "hVxjVF4bwlPo"
      },
      "execution_count": null,
      "outputs": []
    },
    {
      "cell_type": "code",
      "source": [
        "print(check)"
      ],
      "metadata": {
        "colab": {
          "base_uri": "https://localhost:8080/"
        },
        "id": "xTAAjWmAxFVl",
        "outputId": "1a3c24d7-eabe-456e-c7a2-41d63c0dcfd8"
      },
      "execution_count": null,
      "outputs": [
        {
          "output_type": "stream",
          "name": "stdout",
          "text": [
            "True\n"
          ]
        }
      ]
    },
    {
      "cell_type": "code",
      "source": [
        "# Example 1: Checking if a number is positive, negative, or zero\n",
        "number = 7\n",
        "\n",
        "if number > 0:\n",
        "    print(\"The number is positive.\")\n",
        "elif number < 0:\n",
        "    print(\"The number is negative.\")\n",
        "else:\n",
        "    print(\"The number is zero.\")"
      ],
      "metadata": {
        "id": "Bp3h-2H_3JsB"
      },
      "execution_count": null,
      "outputs": []
    },
    {
      "cell_type": "code",
      "source": [
        "# Example 2: Checking if a string is empty or not\n",
        "name = \"\"\n",
        "\n",
        "if name:\n",
        "    print(\"The name is not empty.\")\n",
        "else:\n",
        "    print(\"The name is empty.\")"
      ],
      "metadata": {
        "id": "kIgCpdre3eFL"
      },
      "execution_count": null,
      "outputs": []
    },
    {
      "cell_type": "code",
      "source": [
        "# Example 3: Checking if a year is a leap year\n",
        "year = 2024\n",
        "\n",
        "if (year % 4 == 0 and year % 100 != 0) or year % 400 == 0:\n",
        "    print(f\"{year} is a leap year.\")\n",
        "else:\n",
        "    print(f\"{year} is not a leap year.\")"
      ],
      "metadata": {
        "id": "eT6xPoev3f1a"
      },
      "execution_count": null,
      "outputs": []
    },
    {
      "cell_type": "markdown",
      "source": [
        "# Control Flow - Comparison Operators\n",
        "\n",
        "- Comparison operators are used to compare values and evaluate conditions in if-else statements.\n",
        "- Common comparison operators include == (equal to), != (not equal to), > (greater than), < (less than), >= (greater than or equal to), and <= (less than or equal to).\n",
        "\n",
        "**Code snippet example:**\n",
        "```python\n",
        "# Comparison operators\n",
        "x = 5\n",
        "y = 10\n",
        "\n",
        "if x == y:\n",
        "    print(\"x and y are equal.\")\n",
        "elif x > y:\n",
        "    print(\"x is greater than y.\")\n",
        "else:\n",
        "    print(\"x is less than y.\")\n"
      ],
      "metadata": {
        "id": "X3uEflx43o_J"
      }
    },
    {
      "cell_type": "code",
      "source": [
        "# Example 1: Checking if a number is even or odd\n",
        "number = 7\n",
        "\n",
        "if number % 2 == 0:\n",
        "    print(\"The number is even.\")\n",
        "else:\n",
        "    print(\"The number is odd.\")"
      ],
      "metadata": {
        "id": "D9ExtD4R4WfR"
      },
      "execution_count": null,
      "outputs": []
    },
    {
      "cell_type": "code",
      "source": [
        "# Example 2: Checking if a student's grade is above the passing threshold\n",
        "score = 85\n",
        "passing_threshold = 60\n",
        "\n",
        "if score >= passing_threshold:\n",
        "    print(\"The student has passed.\")\n",
        "else:\n",
        "    print(\"The student has failed.\")"
      ],
      "metadata": {
        "colab": {
          "base_uri": "https://localhost:8080/"
        },
        "id": "dvRwNiKs4l_K",
        "outputId": "600572f5-f8d4-45b2-9529-f16b1f05db9b"
      },
      "execution_count": null,
      "outputs": [
        {
          "output_type": "stream",
          "name": "stdout",
          "text": [
            "The student has passed.\n"
          ]
        }
      ]
    },
    {
      "cell_type": "code",
      "source": [
        "# Example 3: Checking if a username and password match\n",
        "username = \"john\"\n",
        "password = \"password123\"\n",
        "\n",
        "if username == \"john\" and password == \"password123\":\n",
        "    print(\"Access granted.\")\n",
        "else:\n",
        "    print(\"Access denied.\")"
      ],
      "metadata": {
        "id": "XEf0hffO4nbZ"
      },
      "execution_count": null,
      "outputs": []
    },
    {
      "cell_type": "markdown",
      "source": [
        "# Control Flow - Loops (for and while)\n",
        "\n",
        "- Loops allow us to repeatedly execute a block of code.\n",
        "- The for loop is used to iterate over a sequence (e.g., a list, tuple, or string) or a range of numbers.\n",
        "- The while loop is used to execute a block of code as long as a certain condition is true.\n",
        "\n",
        "**Code snippet example:**\n",
        "```python\n",
        "# For loop\n",
        "fruits = [\"apple\", \"banana\", \"cherry\"]\n",
        "for fruit in fruits:\n",
        "    print(fruit)\n",
        "\n",
        "# While loop\n",
        "count = 0\n",
        "while count < 5:\n",
        "    print(\"Count:\", count)\n",
        "    count += 1\n"
      ],
      "metadata": {
        "id": "owhIXv9L4p4Y"
      }
    },
    {
      "cell_type": "markdown",
      "source": [
        "#range()\n",
        "\n",
        "The `range()` function in Python is a built-in function that generates a sequence of numbers. It is commonly used in loops to iterate over a specific range of values. Here are the key concepts associated with the `range()` function:\n",
        "\n",
        "1. Basic Syntax: The basic syntax of the `range()` function is `range(start, stop, step)`. The function takes up to three arguments: the starting point (inclusive), the ending point (exclusive), and the step size (optional). If not specified, the default start value is 0, and the step size is 1.\n",
        "\n",
        "2. Generating a Sequence: The `range()` function generates a sequence of numbers from the start value to the stop value, incrementing by the step size. The stop value is not included in the generated sequence.\n",
        "\n",
        "3. Using in Loops: `range()` is commonly used in loops, such as the `for` loop, to iterate over a specific range of values. The loop variable takes on each value from the generated sequence in each iteration.\n",
        "\n",
        "Now, let's look at some examples to understand the usage of `range()`:\n",
        "\n",
        "Example 1: Iterate over a range of numbers and print them.\n",
        "```python\n",
        "for num in range(1, 6):\n",
        "    print(num)\n",
        "```\n",
        "Output:\n",
        "```\n",
        "1\n",
        "2\n",
        "3\n",
        "4\n",
        "5\n",
        "```\n",
        "\n",
        "Example 2: Specify a step size to iterate over even numbers.\n",
        "```python\n",
        "for num in range(2, 11, 2):\n",
        "    print(num)\n",
        "```\n",
        "Output:\n",
        "```\n",
        "2\n",
        "4\n",
        "6\n",
        "8\n",
        "10\n",
        "```\n",
        "\n",
        "Example 3: Generate a sequence of numbers and store them in a list.\n",
        "```python\n",
        "numbers = list(range(1, 6))\n",
        "print(numbers)\n",
        "```\n",
        "Output:\n",
        "```\n",
        "[1, 2, 3, 4, 5]\n",
        "```\n",
        "\n",
        "Example 4: Calculate the sum of numbers in a range.\n",
        "```python\n",
        "total = 0\n",
        "for num in range(1, 6):\n",
        "    total += num\n",
        "print(total)\n",
        "```\n",
        "Output:\n",
        "```\n",
        "15\n",
        "```\n"
      ],
      "metadata": {
        "id": "PlZXTPdr7EL-"
      }
    },
    {
      "cell_type": "code",
      "source": [
        "total = 0\n",
        "for num in range(1, 6):\n",
        "    total += num\n",
        "print(total)"
      ],
      "metadata": {
        "colab": {
          "base_uri": "https://localhost:8080/"
        },
        "id": "hszYAw4_NHIs",
        "outputId": "51eb42d4-ce0e-4543-99a7-9aeaa352383c"
      },
      "execution_count": null,
      "outputs": [
        {
          "output_type": "stream",
          "name": "stdout",
          "text": [
            "15\n"
          ]
        }
      ]
    },
    {
      "cell_type": "markdown",
      "source": [
        "#print()\n",
        "\n",
        "The `print()` function in Python is a built-in function that allows you to display output on the console. It is commonly used for debugging, displaying information to users, or simply for printing values. Here are the key concepts associated with the `print()` function:\n",
        "\n",
        "1. Basic Syntax: The basic syntax of the `print()` function is `print(object(s), sep=separator, end=end)`. The function takes one or more objects as arguments and prints them to the console. The `sep` parameter specifies the separator between the objects (default is a space), and the `end` parameter specifies the character(s) to be printed at the end (default is a newline character).\n",
        "\n",
        "2. Printing Objects: The `print()` function can print various types of objects, including strings, numbers, variables, and expressions. Multiple objects can be printed by separating them with commas.\n",
        "\n",
        "3. Formatting Output: The `print()` function supports different formatting options to control the appearance of the output. This includes using escape characters, formatting placeholders, and specifying the number of decimal places for floating-point numbers.\n",
        "\n",
        "Now, let's look at some examples to understand the usage of `print()`:\n",
        "\n",
        "Example 1: Print a string.\n",
        "```python\n",
        "print(\"Hello, World!\")\n",
        "```\n",
        "Output:\n",
        "```\n",
        "Hello, World!\n",
        "```\n",
        "\n",
        "Example 2: Print multiple objects separated by a custom separator.\n",
        "```python\n",
        "name = \"John\"\n",
        "age = 25\n",
        "print(\"Name:\", name, \"Age:\", age, sep=\" - \")\n",
        "```\n",
        "Output:\n",
        "```\n",
        "Name: John - Age: 25\n",
        "```\n",
        "\n",
        "Example 3: Print the result of an expression.\n",
        "```python\n",
        "x = 5\n",
        "y = 3\n",
        "print(\"Sum:\", x + y)\n",
        "```\n",
        "Output:\n",
        "```\n",
        "Sum: 8\n",
        "```\n",
        "\n",
        "Example 4: Format floating-point numbers.\n",
        "```python\n",
        "pi = 3.14159\n",
        "print(\"Value of pi:\", format(pi, \".2f\"))\n",
        "```\n",
        "Output:\n",
        "```\n",
        "Value of pi: 3.14\n",
        "```\n",
        "\n",
        "Example 5: Use escape characters for special characters.\n",
        "```python\n",
        "print(\"This is a new line.\\nThis is a tab:\\t\\tThis is a backslash: \\\\\")\n",
        "```\n",
        "Output:\n",
        "```\n",
        "This is a new line.\n",
        "This is a tab:\t\tThis is a backslash: \\\n",
        "```\n"
      ],
      "metadata": {
        "id": "ZfkXJzdS7GyA"
      }
    },
    {
      "cell_type": "markdown",
      "source": [
        "#input()\n",
        "The `input()` function in Python is a built-in function that allows you to interact with the user by accepting input from them. It is commonly used to obtain user input, such as text or numerical values, during the execution of a program. Here are the key concepts associated with the `input()` function:\n",
        "\n",
        "1. Basic Syntax: The basic syntax of the `input()` function is `input(prompt)`. The function takes an optional prompt as an argument, which is a string that is displayed to the user before accepting their input. The function waits for the user to enter something and press the Enter key.\n",
        "\n",
        "2. User Input: The `input()` function reads the user's input as a string. It returns the entered value as a string, which can be assigned to a variable for further processing. You can convert the string to other data types as needed.\n",
        "\n",
        "3. Prompting the User: You can provide a prompt message to guide the user on what type of input is expected. The prompt is displayed as a message or question before the user enters their input.\n",
        "\n",
        "Now, let's look at some examples to understand the usage of `input()`:\n",
        "\n",
        "Example 1: Accepting and displaying user input.\n",
        "```python\n",
        "name = input(\"Enter your name: \")\n",
        "print(\"Hello, \" + name + \"! Nice to meet you.\")\n",
        "```\n",
        "Output:\n",
        "```\n",
        "Enter your name: John\n",
        "Hello, John! Nice to meet you.\n",
        "```\n",
        "\n",
        "Example 2: Converting user input to a numerical value.\n",
        "```python\n",
        "age = input(\"Enter your age: \")\n",
        "age = int(age)  # Convert the input to an integer\n",
        "print(\"In 10 years, you will be\", age + 10, \"years old.\")\n",
        "```\n",
        "Output:\n",
        "```\n",
        "Enter your age: 25\n",
        "In 10 years, you will be 35 years old.\n",
        "```\n",
        "\n",
        "Example 3: Using user input in calculations.\n",
        "```python\n",
        "radius = float(input(\"Enter the radius of a circle: \"))\n",
        "area = 3.14 * radius ** 2\n",
        "print(\"The area of the circle is\", area)\n",
        "```\n",
        "Output:\n",
        "```\n",
        "Enter the radius of a circle: 2.5\n",
        "The area of the circle is 19.625\n",
        "```\n",
        "\n",
        "Example 4: Accepting multiple inputs.\n",
        "```python\n",
        "name = input(\"Enter your name: \")\n",
        "age = int(input(\"Enter your age: \"))\n",
        "print(\"Name:\", name)\n",
        "print(\"Age:\", age)\n",
        "```\n",
        "Output:\n",
        "```\n",
        "Enter your name: John\n",
        "Enter your age: 25\n",
        "Name: John\n",
        "Age: 25\n",
        "```\n"
      ],
      "metadata": {
        "id": "sv7ykoYv7JNo"
      }
    },
    {
      "cell_type": "code",
      "source": [
        "# age = input(\"Enter your age: \")\n",
        "age = int(input(\"Enter your age: \"))\n",
        "print(type(age))\n",
        "# age = int(age)  # Convert the input to an integer\n",
        "print(\"In 10 years, you will be\", age + 10, \"years old.\")"
      ],
      "metadata": {
        "colab": {
          "base_uri": "https://localhost:8080/"
        },
        "id": "lCQvVxuTSOuW",
        "outputId": "0ce06282-1896-49b2-a5d5-bb485e126cc9"
      },
      "execution_count": null,
      "outputs": [
        {
          "output_type": "stream",
          "name": "stdout",
          "text": [
            "Enter your age: 25\n",
            "<class 'int'>\n",
            "In 10 years, you will be 35 years old.\n"
          ]
        }
      ]
    },
    {
      "cell_type": "markdown",
      "source": [
        "The `for` loop in Python is a control flow statement that allows you to iterate over a sequence of elements, such as a list, string, or range. It executes a block of code repeatedly for each item in the sequence. Here is the basic syntax of a `for` loop in Python:\n",
        "\n",
        "```python\n",
        "for item in sequence:\n",
        "    # Code block to be executed\n",
        "```\n",
        "\n",
        "Let's break down the different components of the `for` loop:\n",
        "\n",
        "1. `for`: It is the keyword that marks the beginning of the `for` loop statement.\n",
        "\n",
        "2. `item`: It is a variable name that represents the current item in each iteration of the loop. You can choose any valid variable name.\n",
        "\n",
        "3. `in`: It is a keyword used to specify the sequence of elements over which the loop iterates.\n",
        "\n",
        "4. `sequence`: It can be any iterable object, such as a list, string, tuple, range, etc. The loop iterates over each item in the sequence.\n",
        "\n",
        "5. Code block: It is indented under the `for` statement and contains the code to be executed for each iteration of the loop. The code block is executed once for each item in the sequence.\n",
        "\n",
        "Here's an example that demonstrates the basic syntax of a `for` loop:\n",
        "\n",
        "```python\n",
        "fruits = [\"apple\", \"banana\", \"cherry\"]\n",
        "for fruit in fruits:\n",
        "    print(fruit)\n",
        "```\n",
        "\n",
        "Output:\n",
        "```\n",
        "apple\n",
        "banana\n",
        "cherry\n",
        "```\n",
        "\n",
        "In this example, the `for` loop iterates over each item in the `fruits` list. The loop variable `fruit` takes on the value of each item in each iteration. The code block indented under the loop prints the value of `fruit`, resulting in the names of the fruits being printed on separate lines.\n",
        "\n",
        "You can also use a `for` loop with other iterable objects like strings, tuples, or even a range of numbers. The loop will iterate over each item in the given sequence and execute the code block accordingly.\n",
        "\n",
        "Remember that proper indentation is crucial in Python to define the scope of the code block within the `for` loop. The code block is executed once for each item in the sequence until all items have been processed."
      ],
      "metadata": {
        "id": "Si1_HOAW-qd1"
      }
    },
    {
      "cell_type": "code",
      "source": [
        "for num in range(1, 6):\n",
        "    print(num)  # Print each number from 1 to 5"
      ],
      "metadata": {
        "id": "9TC87h6h6Fq3",
        "colab": {
          "base_uri": "https://localhost:8080/"
        },
        "outputId": "1c162b98-2375-4790-9c6f-e698f671fc0c"
      },
      "execution_count": null,
      "outputs": [
        {
          "output_type": "stream",
          "name": "stdout",
          "text": [
            "0.14285714285714285\n",
            "0.2857142857142857\n",
            "0.42857142857142855\n",
            "0.5714285714285714\n",
            "0.7142857142857143\n"
          ]
        }
      ]
    },
    {
      "cell_type": "code",
      "source": [
        "fruits = [\"apple\", \"banana\", \"cherry\"]\n",
        "for fruit in fruits:\n",
        "    print(fruit)  # Print each fruit"
      ],
      "metadata": {
        "id": "ygyyNg2X4o95",
        "colab": {
          "base_uri": "https://localhost:8080/"
        },
        "outputId": "ed2aa57d-8f86-4e02-858a-533867e0c320"
      },
      "execution_count": null,
      "outputs": [
        {
          "output_type": "stream",
          "name": "stdout",
          "text": [
            "apple\n",
            "banana\n",
            "cherry\n"
          ]
        }
      ]
    },
    {
      "cell_type": "code",
      "source": [
        "message = \"Hello, world!\"\n",
        "print(message)\n",
        "for char in message:\n",
        "    print(char)  # Print each character\n"
      ],
      "metadata": {
        "id": "UT69l1c96EOf",
        "colab": {
          "base_uri": "https://localhost:8080/"
        },
        "outputId": "2b71e8c9-351b-4c58-faa4-007d353ab5a0"
      },
      "execution_count": null,
      "outputs": [
        {
          "output_type": "stream",
          "name": "stdout",
          "text": [
            "Hello, world!\n"
          ]
        }
      ]
    },
    {
      "cell_type": "code",
      "source": [
        "for num in range(0, 10, 2):\n",
        "    print(num)  # Print each even number from 0 to 8\n"
      ],
      "metadata": {
        "id": "O52oigKm6HuA",
        "colab": {
          "base_uri": "https://localhost:8080/"
        },
        "outputId": "90f9aafa-eeaf-4b3b-917c-d82b56d14c6c"
      },
      "execution_count": null,
      "outputs": [
        {
          "output_type": "stream",
          "name": "stdout",
          "text": [
            "0\n",
            "2\n",
            "4\n",
            "6\n",
            "8\n"
          ]
        }
      ]
    },
    {
      "cell_type": "code",
      "source": [
        "count = 5\n",
        "while count > 0:\n",
        "    print(count)  # Print the current count\n",
        "    count -= 1  # Decrement the count by 1 in each iteration\n"
      ],
      "metadata": {
        "id": "NTa6xWw-6Lwo"
      },
      "execution_count": null,
      "outputs": []
    },
    {
      "cell_type": "code",
      "source": [
        "user_input = \"\"\n",
        "while user_input != \"quit\":\n",
        "    user_input = inpunat(\"Enter a command: \")  # Prompt the user for a command\n",
        "    print(\"Executing command:\", user_input)  # Print the command\n"
      ],
      "metadata": {
        "id": "HVTXlZLn6NmP",
        "colab": {
          "base_uri": "https://localhost:8080/"
        },
        "outputId": "4a8e3eaa-736d-4303-b182-8ba8df1c9bb1"
      },
      "execution_count": null,
      "outputs": [
        {
          "output_type": "stream",
          "name": "stdout",
          "text": [
            "Enter a command: right\n",
            "Executing command: right\n",
            "Enter a command: left\n",
            "Executing command: left\n",
            "Enter a command: forward\n",
            "Executing command: forward\n",
            "Enter a command: backward\n",
            "Executing command: backward\n",
            "Enter a command: up\n",
            "Executing command: up\n",
            "Enter a command: down\n",
            "Executing command: down\n",
            "Enter a command: quit\n",
            "Executing command: quit\n"
          ]
        }
      ]
    },
    {
      "cell_type": "code",
      "source": [
        "fruits = [\"apple\", \"banana\", \"cherry\"]\n",
        "for fruit in fruits:\n",
        "    if fruit == \"banana\":\n",
        "        break  # Exit the loop when the fruit is \"banana\"\n",
        "    print(fruit)  # Print each fruit\n"
      ],
      "metadata": {
        "id": "RXEH737s6Pm_",
        "colab": {
          "base_uri": "https://localhost:8080/"
        },
        "outputId": "1ff7bddc-4475-4547-8278-e2b9e60a3662"
      },
      "execution_count": null,
      "outputs": [
        {
          "output_type": "stream",
          "name": "stdout",
          "text": [
            "apple\n"
          ]
        }
      ]
    },
    {
      "cell_type": "code",
      "source": [
        "fruits = [\"apple\", \"banana\", \"cherry\"]\n",
        "for fruit in fruits:\n",
        "    if fruit == \"banana\":\n",
        "        continue  # Skip the current iteration when the fruit is \"banana\"\n",
        "    print(fruit)  # Print each fruit\n"
      ],
      "metadata": {
        "id": "W0AnIX_V6SxH",
        "colab": {
          "base_uri": "https://localhost:8080/"
        },
        "outputId": "36e4dda2-f892-4855-f442-ae9ac2ad0ded"
      },
      "execution_count": null,
      "outputs": [
        {
          "output_type": "stream",
          "name": "stdout",
          "text": [
            "apple\n",
            "cherry\n"
          ]
        }
      ]
    },
    {
      "cell_type": "code",
      "source": [
        "for i in range(3):\n",
        "    for j in range(2):\n",
        "        print(i, j)  # Print the values of i and j in each iteration\n"
      ],
      "metadata": {
        "id": "Bd6MJEzy6VuG"
      },
      "execution_count": null,
      "outputs": []
    },
    {
      "cell_type": "markdown",
      "source": [
        "# Functions - Introduction\n",
        "\n",
        "- Functions are reusable blocks of code that perform a specific task.\n",
        "- They help in organizing code, improving reusability, and enhancing readability.\n",
        "- Functions can accept parameters (inputs) and return values (outputs).\n",
        "\n",
        "**Code snippet example:**\n",
        "```python\n",
        "# Function definition\n",
        "def greet(name):\n",
        "    message = \"Hello, \" + name + \"!\"\n",
        "    return message\n",
        "\n",
        "# Function call\n",
        "greeting = greet(\"Alice\")\n",
        "print(greeting)\n"
      ],
      "metadata": {
        "id": "9cd7kg7L6efX"
      }
    },
    {
      "cell_type": "markdown",
      "source": [
        "In Python, a function is a block of reusable code that performs a specific task. Functions allow you to modularize your code and make it more organized and reusable. Here is the basic syntax of a function in Python:\n",
        "\n",
        "```python\n",
        "def function_name(parameter1, parameter2, ...):\n",
        "    # Function body\n",
        "    # Code block to be executed\n",
        "    # ...\n",
        "    return value\n",
        "```\n",
        "\n",
        "Let's break down the different components of the function syntax:\n",
        "\n",
        "1. `def`: It is the keyword used to define a function in Python.\n",
        "\n",
        "2. `function_name`: It is the name of the function, which should follow the rules for valid variable names. Choose a descriptive name that reflects the purpose of the function.\n",
        "\n",
        "3. `(parameter1, parameter2, ...)`: These are optional parameters that the function can accept. Parameters allow you to pass values into the function when it is called. You can define zero or more parameters separated by commas.\n",
        "\n",
        "4. Function body: It is indented under the function definition line and contains the code to be executed when the function is called. This code block can include any valid Python statements.\n",
        "\n",
        "5. `return value`: This is an optional statement that specifies the value to be returned by the function. If present, it ends the function's execution and returns the specified value. If omitted, the function returns `None` by default.\n",
        "\n",
        "Here's an example that demonstrates the basic syntax of a function:\n",
        "\n",
        "```python\n",
        "def greet(name):\n",
        "    message = \"Hello, \" + name + \"!\"\n",
        "    print(message)\n",
        "    return len(name)\n",
        "\n",
        "length = greet(\"John\")\n",
        "print(\"Length of the name:\", length)\n",
        "```\n",
        "\n",
        "Output:\n",
        "```\n",
        "Hello, John!\n",
        "Length of the name: 4\n",
        "```\n",
        "\n",
        "In this example, we define a function named `greet` that takes a `name` parameter. The function concatenates the name with a greeting message, prints it, and returns the length of the name. We call the function with the argument `\"John\"` and assign the returned value to the variable `length`. Finally, we print the length of the name.\n",
        "\n",
        "Remember that when defining a function, it only defines the function's behavior. To actually execute the code inside the function, you need to call the function by using its name followed by parentheses and passing any required arguments.\n",
        "\n",
        "Functions can have different variations, such as functions without parameters or functions that don't return a value. The basic syntax remains the same, but the parameters and the presence of the `return` statement may vary depending on the specific use case."
      ],
      "metadata": {
        "id": "d0e_Y6lz_z_G"
      }
    },
    {
      "cell_type": "code",
      "source": [
        "# Example 1: Simple function without parameters\n",
        "def greet():\n",
        "    print(\"Hello, world!\")\n",
        "\n",
        "greet()  # Function call"
      ],
      "metadata": {
        "id": "5ej1I7cV7I0m"
      },
      "execution_count": null,
      "outputs": []
    },
    {
      "cell_type": "code",
      "source": [
        "\n",
        "# Example 2: Function with parameters and return value\n",
        "def add_numbers(num1, num2):\n",
        "    sum_result = num1 + num2\n",
        "    return sum_result\n",
        "\n",
        "result = add_numbers(5, 3)  # Function call and storing the return value\n",
        "print(\"Sum:\", result)"
      ],
      "metadata": {
        "id": "S4fj_VYO7cau"
      },
      "execution_count": null,
      "outputs": []
    },
    {
      "cell_type": "code",
      "source": [
        "# Example 3: Function with default parameter\n",
        "def calculate_area(length, width=1):\n",
        "    area = length * width\n",
        "    return area\n",
        "\n",
        "rectangle_area = calculate_area(5)  # Using default value for width\n",
        "print(\"Rectangle area:\", rectangle_area)"
      ],
      "metadata": {
        "id": "pVRil4uL7eOf"
      },
      "execution_count": null,
      "outputs": []
    },
    {
      "cell_type": "code",
      "source": [
        "# Example 4: Function with variable number of arguments\n",
        "def concatenate_strings(*args):\n",
        "    result = \"\"\n",
        "    for string in args:\n",
        "        result += string\n",
        "    return result\n",
        "\n",
        "concatenated_string = concatenate_strings(\"Hello\", \" \", \"World\", \"!\")\n",
        "print(\"Concatenated string:\", concatenated_string)"
      ],
      "metadata": {
        "id": "Q_cFb3NA7frA"
      },
      "execution_count": null,
      "outputs": []
    },
    {
      "cell_type": "markdown",
      "source": [
        "# Functions - Built-in Functions and Libraries\n",
        "\n",
        "- Python provides numerous built-in functions that perform common operations.\n",
        "- Data science libraries like NumPy and Pandas offer specialized functions for data manipulation and analysis.\n",
        "\n",
        "**Code snippet example:**\n",
        "```python\n",
        "# Built-in functions\n",
        "numbers = [1, 2, 3, 4, 5]\n",
        "length = len(numbers)  # Get the length of the list\n",
        "maximum = max(numbers)  # Find the maximum value in the list\n",
        "minimum = min(numbers)  # Find the minimum value in the list\n",
        "sum_values = sum(numbers)  # Calculate the sum of the values in the list\n",
        "\n",
        "# NumPy functions\n",
        "import numpy as np\n",
        "array = np.array([1, 2, 3, 4, 5])\n",
        "mean = np.mean(array)  # Calculate the mean of the array\n",
        "median = np.median(array)  # Calculate the median of the array\n"
      ],
      "metadata": {
        "id": "ofQQrLdW7hQ2"
      }
    },
    {
      "cell_type": "code",
      "source": [
        "# Example 1: Using built-in functions\n",
        "numbers = [1, 2, 3, 4, 5]\n",
        "length = len(numbers)  # Get the length of the list\n",
        "maximum = max(numbers)  # Find the maximum value in the list\n",
        "minimum = min(numbers)  # Find the minimum value in the list\n",
        "sum_values = sum(numbers)  # Calculate the sum of the values in the list\n",
        "\n",
        "print(\"Length:\", length)\n",
        "print(\"Maximum:\", maximum)\n",
        "print(\"Minimum:\", minimum)\n",
        "print(\"Sum:\", sum_values)"
      ],
      "metadata": {
        "id": "fGF0cWVR8QEu"
      },
      "execution_count": null,
      "outputs": []
    },
    {
      "cell_type": "code",
      "source": [
        "# Example 2: Using NumPy functions\n",
        "import numpy as np\n",
        "\n",
        "array = np.array([1, 2, 3, 4, 5])\n",
        "mean = np.mean(array)  # Calculate the mean of the array\n",
        "median = np.median(array)  # Calculate the median of the array\n",
        "\n",
        "print(\"Mean:\", mean)\n",
        "print(\"Median:\", median)"
      ],
      "metadata": {
        "id": "amx130Kt8QXF"
      },
      "execution_count": null,
      "outputs": []
    },
    {
      "cell_type": "code",
      "source": [
        "# Example 3: Using NumPy functions in a loop with if-else statements\n",
        "import numpy as np\n",
        "\n",
        "data = np.array([1, 2, 3, 4, 5])\n",
        "\n",
        "for num in data:\n",
        "    if num < np.mean(data):\n",
        "        print(num, \"is less than the mean\")\n",
        "    else:\n",
        "        print(num, \"is greater than or equal to the mean\")"
      ],
      "metadata": {
        "id": "rEJIM3R97tHt"
      },
      "execution_count": null,
      "outputs": []
    },
    {
      "cell_type": "markdown",
      "source": [
        "# Modules - Introduction\n",
        "\n",
        "- Modules are files containing Python code that define functions, classes, and variables.\n",
        "- They allow us to organize code into separate files and promote code reusability.\n",
        "- Python provides a rich ecosystem of modules for various purposes, including data science.\n",
        "\n",
        "**Code snippet example:**\n",
        "```python\n",
        "# Importing modules\n",
        "import math\n",
        "\n",
        "# Using module functions\n",
        "sqrt_value = math.sqrt(16)  # Square root using the math module\n"
      ],
      "metadata": {
        "id": "SWJA980i8gHv"
      }
    },
    {
      "cell_type": "code",
      "source": [
        "# Example 1: Using the math module\n",
        "import math\n",
        "\n",
        "# Calculate the square root of a number\n",
        "sqrt_value = math.sqrt(16)\n",
        "print(\"Square root:\", sqrt_value)\n",
        "\n",
        "# Calculate the factorial of a number\n",
        "factorial_value = math.factorial(5)\n",
        "print(\"Factorial:\", factorial_value)\n",
        "\n"
      ],
      "metadata": {
        "id": "5NOtllqK8gk1"
      },
      "execution_count": null,
      "outputs": []
    },
    {
      "cell_type": "code",
      "source": [
        "# Example 2: Using the random module\n",
        "import random\n",
        "\n",
        "# Generate a random integer between 1 and 10 (inclusive)\n",
        "random_number = random.randint(1, 10)\n",
        "print(\"Random number:\", random_number)\n",
        "\n",
        "# Generate a random floating-point number between 0 and 1\n",
        "random_float = random.random()\n",
        "print(\"Random float:\", random_float)\n",
        "\n"
      ],
      "metadata": {
        "id": "qcdRt9Hs81W1"
      },
      "execution_count": null,
      "outputs": []
    },
    {
      "cell_type": "code",
      "source": [
        "# Example 3: Using a custom module\n",
        "# Assuming you have a module named mymodule.py in the same directory\n",
        "\n",
        "import mymodule\n",
        "\n",
        "# Call a function from the custom module\n",
        "mymodule.greet(\"Alice\")"
      ],
      "metadata": {
        "id": "xn4YKWTU83KN"
      },
      "execution_count": null,
      "outputs": []
    },
    {
      "cell_type": "markdown",
      "source": [
        "# Modules - Data Science Libraries\n",
        "\n",
        "- Data science libraries like Pandas, Matplotlib, and Scikit-learn provide powerful functions for data manipulation, visualization, and machine learning.\n",
        "- Importing these libraries allows us to leverage their functionalities in our data science projects.\n",
        "\n",
        "**Code snippet example:**\n",
        "```python\n",
        "# Importing data science libraries\n",
        "import pandas as pd\n",
        "import matplotlib.pyplot as plt\n",
        "from sklearn.linear_model import LinearRegression\n",
        "\n",
        "# Example usage\n",
        "data = pd.read_csv(\"data.csv\")  # Reading data using Pandas\n",
        "plt.plot(data[\"x\"], data[\"y\"])  # Creating a plot using Matplotlib\n",
        "model = LinearRegression()  # Creating a Linear Regression model using Scikit-learn\n",
        "model.fit(X_train, y_train)  # Training the model\n"
      ],
      "metadata": {
        "id": "ewL94rWo84wd"
      }
    },
    {
      "cell_type": "markdown",
      "source": [
        "# Recap and Next Steps\n",
        "\n",
        "- In this class, we covered control flow constructs like if-else statements and loops.\n",
        "- We explored how to make decisions and execute code based on conditions using if-else statements.\n",
        "- We also learned about loops, including the for loop and the while loop, for repetitive code execution.\n",
        "- Additionally, we discussed functions as reusable blocks of code, including their parameters and return values.\n",
        "- Lastly, we introduced the concept of modules and their role in code organization and reusability.\n",
        "\n",
        "**Next Steps:**\n",
        "- Practice writing if-else statements and loops to solve various programming problems.\n",
        "- Experiment with functions to modularize your code and make it more reusable.\n",
        "- Explore different modules and libraries relevant to your data science journey.\n",
        "- Continue building your Python skills by working on hands-on projects and challenges.\n",
        "\n",
        "Keep up the good work, and let's move forward to the next class!\n",
        "\n"
      ],
      "metadata": {
        "id": "AB5KOoCJ9PId"
      }
    }
  ]
}